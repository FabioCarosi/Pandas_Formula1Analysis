{
  "cells": [
    {
      "cell_type": "markdown",
      "id": "6I03GGGQhK6i",
      "metadata": {
        "id": "6I03GGGQhK6i"
      },
      "source": [
        "# F1 Analysis"
      ]
    },
    {
      "cell_type": "markdown",
      "id": "b0352ce6",
      "metadata": {
        "id": "b0352ce6"
      },
      "source": [
        "## Start"
      ]
    },
    {
      "cell_type": "code",
      "execution_count": null,
      "id": "k_S7X2EFr_Ec",
      "metadata": {
        "id": "k_S7X2EFr_Ec"
      },
      "outputs": [],
      "source": [
        "#USEFUL CODES FOR COLAB\n",
        "\n",
        "#from google.colab import drive\n",
        "#drive.mount ('/content/gdrive')\n",
        "#cd /content/gdrive/MyDrive/DataScience/\n"
      ]
    },
    {
      "cell_type": "code",
      "execution_count": null,
      "id": "1e824d8b",
      "metadata": {
        "id": "1e824d8b"
      },
      "outputs": [],
      "source": [
        "import numpy as np\n",
        "import pandas as pd\n",
        "import matplotlib.pyplot as plt\n",
        "import seaborn as sns\n",
        "import statsmodels.api as sm\n",
        "import plotly.graph_objs as go\n",
        "import warnings\n",
        "warnings.filterwarnings('ignore')"
      ]
    },
    {
      "cell_type": "code",
      "execution_count": null,
      "id": "vAd1dc6kLEUG",
      "metadata": {
        "id": "vAd1dc6kLEUG"
      },
      "outputs": [],
      "source": [
        "circuits = pd.read_csv('data/circuits.csv')\n",
        "#constructor_results = pd.read_csv('data/constructor_results.csv')\n",
        "#constructor_standings = pd.read_csv('data/constructor_standings.csv')\n",
        "constructors = pd.read_csv('data/constructors.csv')\n",
        "driver_standings = pd.read_csv('data/driver_standings.csv')\n",
        "drivers = pd.read_csv('data/drivers.csv')\n",
        "#lap_times = pd.read_csv('data/lap_times.csv')\n",
        "pit_stops = pd.read_csv('data/pit_stops.csv')\n",
        "qualifying = pd.read_csv('data/qualifying.csv')\n",
        "races = pd.read_csv('data/races.csv')\n",
        "results = pd.read_csv('data/results.csv')\n",
        "#seasons = pd.read_csv('data/seasons.csv')\n",
        "#sprint_results = pd.read_csv('data/sprint_results.csv')\n",
        "#status = pd.read_csv('data/status.csv')\n",
        "cluster = pd.read_csv('data/cluster.csv')"
      ]
    },
    {
      "cell_type": "markdown",
      "id": "3b51ae1b",
      "metadata": {
        "id": "3b51ae1b"
      },
      "source": [
        "## Descriptive Analysis"
      ]
    },
    {
      "cell_type": "markdown",
      "id": "0hyWuHQzhZQf",
      "metadata": {
        "id": "0hyWuHQzhZQf"
      },
      "source": [
        "### Distributions"
      ]
    },
    {
      "cell_type": "code",
      "execution_count": null,
      "id": "_w7QYFbWlJXd",
      "metadata": {
        "colab": {
          "base_uri": "https://localhost:8080/",
          "height": 350
        },
        "id": "_w7QYFbWlJXd",
        "outputId": "6638d71a-16ab-48a2-d89a-d29758162c62"
      },
      "outputs": [],
      "source": [
        "#status code engine failure, non-ignition and engine fire\n",
        "engine = results.loc[(results['statusId'] == 5)|(results['statusId'] == 56)|(results['statusId'] == 129)] \n",
        "\n",
        "plt.figure(figsize=(20,10))\n",
        "sns.distplot(engine['laps'], kde=False, bins=200)\n",
        "plt.title('Distribution of engine failure', fontsize = 20)\n",
        "plt.show()"
      ]
    },
    {
      "cell_type": "code",
      "execution_count": null,
      "id": "YhLzJdZs7eDr",
      "metadata": {
        "colab": {
          "base_uri": "https://localhost:8080/",
          "height": 344
        },
        "id": "YhLzJdZs7eDr",
        "outputId": "cff1f8e2-d587-4441-b80c-2adaefb26d6a"
      },
      "outputs": [],
      "source": [
        "plt.figure(figsize=(20,10))\n",
        "sns.distplot(pit_stops['lap'], kde=True, bins=200)\n",
        "plt.title('Distribution of pit stops', fontsize = 20)\n",
        "plt.show()"
      ]
    },
    {
      "cell_type": "code",
      "execution_count": null,
      "id": "5lDQN3dIoftZ",
      "metadata": {
        "colab": {
          "base_uri": "https://localhost:8080/",
          "height": 647
        },
        "id": "5lDQN3dIoftZ",
        "outputId": "cc553912-8198-4903-a388-a1ade0437803"
      },
      "outputs": [],
      "source": [
        "winner = results.loc[results['positionOrder'] == 1]\n",
        "plt.figure(figsize=(20,10))\n",
        "sns.distplot(winner['laps'], kde=True, bins=200)\n",
        "plt.title('Distribution of number of laps to win grand prix', fontsize = 20)\n",
        "plt.show()"
      ]
    },
    {
      "cell_type": "markdown",
      "id": "RIKzSIsrh2Zb",
      "metadata": {
        "id": "RIKzSIsrh2Zb"
      },
      "source": [
        "### Correlation"
      ]
    },
    {
      "cell_type": "code",
      "execution_count": null,
      "id": "879950e0",
      "metadata": {
        "colab": {
          "base_uri": "https://localhost:8080/",
          "height": 504
        },
        "id": "879950e0",
        "outputId": "8b04c222-787b-4227-c03f-26ab5a435c43"
      },
      "outputs": [],
      "source": [
        "\n",
        "\n",
        "position = pd.merge(results, qualifying, on=['raceId', 'driverId'])\n",
        "position = position[['raceId', 'driverId', 'position_y', 'grid', 'positionOrder']]\n",
        "position = position.rename(columns={\"position_y\": \"qualifying\", \"positionOrder\": \"race\"})\n",
        "features= list(['qualifying','grid','race'])\n",
        "\n",
        "plt.figure(figsize=(15,8))\n",
        "sns.heatmap(position[features].corr(), cmap = 'Greens', annot = True, annot_kws={\"fontsize\": 18})\n",
        "plt.title('Heatmap', fontsize = 20)\n",
        "plt.show()"
      ]
    },
    {
      "cell_type": "markdown",
      "id": "pgr9HeqXh7xY",
      "metadata": {
        "id": "pgr9HeqXh7xY"
      },
      "source": [
        "### Maps"
      ]
    },
    {
      "cell_type": "code",
      "execution_count": null,
      "id": "Z3vqzsRG_AWe",
      "metadata": {
        "colab": {
          "base_uri": "https://localhost:8080/",
          "height": 896
        },
        "id": "Z3vqzsRG_AWe",
        "outputId": "6a3853a8-8f95-4dd5-a285-d4892dad1209"
      },
      "outputs": [],
      "source": [
        "results = results[['resultId', 'raceId', 'constructorId', 'positionOrder']]\n",
        "constructors = constructors[['constructorId', 'name']]\n",
        "races = races[['raceId', 'circuitId']]\n",
        "\n",
        "winners = results.loc[results['positionOrder'] == 1]\n",
        "constructor_winners = pd.merge(winners, constructors, on=['constructorId'])\n",
        "\n",
        "constructor_winners = pd.merge(constructor_winners, races, on=['raceId'])\n",
        "constructor_winners = pd.merge(constructor_winners, circuits, on=['circuitId'])\n",
        "constructor_winners = constructor_winners.rename(columns={\"name_x\": \"constructor\", \"name_y\": \"circuit\"})\n",
        "\n",
        "\n",
        "constructor_winners = constructor_winners[['constructor', 'circuit', 'location', 'country',  'lat', 'lng']]\n",
        "\n",
        "wins_count = pd.DataFrame(constructor_winners.value_counts())\n",
        "wins_count = wins_count.reset_index()\n",
        "wins_count.columns = ['constructor', 'circuit', 'location', 'country','lat', 'lng', 'count']\n",
        "\n",
        "ferrari_wins = wins_count.loc[wins_count['constructor']=='Ferrari']\n",
        "ferrari_winners =  constructor_winners.loc[constructor_winners['constructor']=='Ferrari']\n",
        "\n",
        "stateWins = ferrari_wins[['country', 'count']]\n",
        "stateWins = stateWins.groupby(['country']).sum()\n",
        "stateWins = stateWins.reset_index()\n",
        "stateWins"
      ]
    },
    {
      "cell_type": "code",
      "execution_count": null,
      "id": "tiCubSVGXRLG",
      "metadata": {
        "colab": {
          "base_uri": "https://localhost:8080/",
          "height": 349
        },
        "id": "tiCubSVGXRLG",
        "outputId": "fc3fe916-0797-41ba-8c67-301ba68c8e71"
      },
      "outputs": [],
      "source": [
        "ferrari_winners['country'].value_counts().plot.bar(figsize = (20, 10), color = 'red')\n",
        "#ferrari_winners['location'].value_counts().plot(kind = 'bar', color ='green')"
      ]
    },
    {
      "cell_type": "code",
      "execution_count": null,
      "id": "6hxaQ7VvdV7t",
      "metadata": {
        "colab": {
          "base_uri": "https://localhost:8080/",
          "height": 542
        },
        "id": "6hxaQ7VvdV7t",
        "outputId": "04b92a4c-eaed-4e6f-e92b-3376ea9589bd"
      },
      "outputs": [],
      "source": [
        "fig = go.Figure(data=go.Choropleth(\n",
        "    locations = stateWins['country'],\n",
        "    locationmode = 'country names',\n",
        "    z = stateWins['count'],\n",
        "    colorscale = 'Reds',\n",
        "    marker_line_color = 'black',\n",
        "    marker_line_width = 0.5,\n",
        "))\n",
        "\n",
        "fig.update_layout(\n",
        "    title_text = 'Vittorie scuderia Ferrari',\n",
        "    title_x = 0.5,\n",
        "    geo=dict(\n",
        "        showframe = False,\n",
        "        showcoastlines = False,\n",
        "        projection_type = 'equirectangular'\n",
        "    )\n",
        ")"
      ]
    },
    {
      "cell_type": "code",
      "execution_count": null,
      "id": "slbtNEXmaWnT",
      "metadata": {
        "colab": {
          "base_uri": "https://localhost:8080/",
          "height": 394
        },
        "id": "slbtNEXmaWnT",
        "outputId": "9fa3b53d-83f9-4687-d34b-8dc5b45f5929"
      },
      "outputs": [],
      "source": [
        "# Create a world map to show distributions of users \n",
        "import folium\n",
        "from folium.plugins import MarkerCluster\n",
        "#empty map\n",
        "world_map= folium.Map(tiles=\"cartodbpositron\")\n",
        "marker_cluster = MarkerCluster().add_to(world_map)\n",
        "#for each coordinate, create circlemarker of user percent\n",
        "for i in range(len(ferrari_wins)):\n",
        "        lat = ferrari_wins.iloc[i]['lat']\n",
        "        long = ferrari_wins.iloc[i]['lng']\n",
        "        radius=5\n",
        "        popup_text = \"\"\"Location: {}<br>\n",
        "                     Winner: {}<br>\"\"\"\n",
        "        popup_text = popup_text.format(ferrari_wins.iloc[i]['location'],\n",
        "                                   ferrari_wins.iloc[i]['count']\n",
        "                                   )\n",
        "        folium.CircleMarker(location = [lat, long], radius=radius, popup= popup_text, fill =True).add_to(marker_cluster)\n",
        "#show the map\n",
        "world_map"
      ]
    },
    {
      "cell_type": "markdown",
      "id": "b56f134a",
      "metadata": {
        "id": "b56f134a"
      },
      "source": [
        "## Clustering"
      ]
    },
    {
      "cell_type": "markdown",
      "id": "250a7159",
      "metadata": {
        "id": "250a7159"
      },
      "source": [
        "### Two-Dimensional Clustering"
      ]
    },
    {
      "cell_type": "code",
      "execution_count": null,
      "id": "b7bc2fcf",
      "metadata": {
        "id": "b7bc2fcf",
        "outputId": "0e2c40e0-3d4a-48bc-b376-e15cf129912a"
      },
      "outputs": [],
      "source": [
        "from sklearn.preprocessing import StandardScaler\n",
        "sc = StandardScaler()\n",
        "\n",
        "driver_standings = driver_standings.loc[(driver_standings['raceId']>=841)]\n",
        "\n",
        "stardard_driver = sc.fit_transform(driver_standings[[\"points\", \"position\"]])\n",
        "driver_standings[[\"points\", \"position\"]] = stardard_driver\n",
        "driver_standings = driver_standings.groupby(['driverId']).mean()\n",
        "driver_standings\n"
      ]
    },
    {
      "cell_type": "code",
      "execution_count": null,
      "id": "RKoaSYgtgk8B",
      "metadata": {
        "colab": {
          "base_uri": "https://localhost:8080/",
          "height": 305
        },
        "id": "RKoaSYgtgk8B",
        "outputId": "01cfd27e-7e6c-44cf-b564-d37b932ede51"
      },
      "outputs": [],
      "source": [
        "from sklearn.cluster import KMeans\n",
        "x = driver_standings.iloc[:, [2, 3]].values\n",
        "\n",
        "wcss = []\n",
        "for i in range(1, 11):\n",
        "    km = KMeans(n_clusters = i, init = 'k-means++', max_iter = 300, n_init = 10, random_state = 0)\n",
        "    km.fit(x)\n",
        "    wcss.append(km.inertia_)\n",
        "\n",
        "plt.figure(figsize=(20,8))\n",
        "plt.plot(range(1, 11), wcss)\n",
        "plt.title('The Elbow Method', fontsize = 20)\n",
        "plt.xlabel('No. of Clusters')\n",
        "plt.ylabel('wcss')"
      ]
    },
    {
      "cell_type": "code",
      "execution_count": null,
      "id": "3cda3bc7",
      "metadata": {
        "id": "3cda3bc7",
        "outputId": "0f2cff5a-b34a-42fb-a1ad-bd47d1b88d1a"
      },
      "outputs": [],
      "source": [
        "\n",
        "km = KMeans(n_clusters = 3, init = 'k-means++', max_iter = 300, n_init = 10, random_state = 0)\n",
        "y_means = km.fit_predict(x)\n",
        "\n",
        "plt.figure(figsize=(15,8))\n",
        "plt.scatter(x[y_means == 0, 0], x[y_means == 0, 1], s = 100, c = 'silver', label = 'mids')\n",
        "plt.scatter(x[y_means == 1, 0], x[y_means == 1, 1], s = 100, c = 'brown', label = 'lasts')\n",
        "plt.scatter(x[y_means == 2, 0], x[y_means == 2, 1], s = 100, c = 'gold', label = 'bests')\n",
        "plt.scatter(km.cluster_centers_[:,0], km.cluster_centers_[:, 1], s = 50, c = 'blue' , label = 'centroid')\n",
        "\n",
        "plt.title('K Means Clustering', fontsize = 20)\n",
        "plt.xlabel('Point')\n",
        "plt.ylabel('Position')\n",
        "plt.legend()\n",
        "plt.show()\n"
      ]
    },
    {
      "cell_type": "code",
      "execution_count": null,
      "id": "79396e6f",
      "metadata": {
        "id": "79396e6f",
        "outputId": "f69be52f-886a-4c2f-8f06-aa7e0725409a"
      },
      "outputs": [],
      "source": [
        "features= list(['points','position'])\n",
        "#position['qualifying'].corr(position['race'])\n",
        "\n",
        "plt.figure(figsize=(15,8))\n",
        "sns.heatmap(driver_standings[features].corr(), cmap = 'Greens', annot = True, annot_kws={\"fontsize\": 18})\n",
        "plt.title('Heatmap', fontsize = 20)\n",
        "plt.show()"
      ]
    },
    {
      "cell_type": "code",
      "execution_count": null,
      "id": "cabcaafd",
      "metadata": {
        "id": "cabcaafd",
        "outputId": "93157a90-bab2-4051-df76-b06944685a7b"
      },
      "outputs": [],
      "source": [
        "from sklearn.preprocessing import StandardScaler\n",
        "sc = StandardScaler()\n",
        "from sklearn.cluster import KMeans\n",
        "\n",
        "cluster = cluster.loc[cluster['maxSpeed']!=0]\n",
        "\n",
        "stardard_cluster = sc.fit_transform(cluster[[\"percThrottle\", \"maxSpeed\"]])\n",
        "cluster[[\"percThrottle\", \"maxSpeed\"]] = stardard_cluster\n",
        "\n",
        "\n",
        "x = cluster.iloc[:, [3, 4]].values\n",
        "\n",
        "wcss = []\n",
        "for i in range(1, 11):\n",
        "    km = KMeans(n_clusters = i, init = 'k-means++', max_iter = 300, n_init = 10, random_state = 0)\n",
        "    km.fit(x)\n",
        "    wcss.append(km.inertia_)\n",
        "\n",
        "plt.figure(figsize=(20,8))\n",
        "plt.plot(range(1, 11), wcss)\n",
        "plt.title('The Elbow Method', fontsize = 20)\n",
        "plt.xlabel('No. of Clusters')\n",
        "plt.ylabel('wcss')\n"
      ]
    },
    {
      "cell_type": "code",
      "execution_count": null,
      "id": "b1c9237a",
      "metadata": {
        "id": "b1c9237a"
      },
      "outputs": [],
      "source": [
        "\n",
        "km = KMeans(n_clusters = 2, init = 'k-means++', max_iter = 300, n_init = 10, random_state = 0)\n",
        "y_means = km.fit_predict(x)\n",
        "\n",
        "plt.figure(figsize=(15,8))\n",
        "plt.scatter(x[y_means == 0, 0], x[y_means == 0, 1], s = 100, c = 'silver', label = 'slowests')\n",
        "plt.scatter(x[y_means == 1, 0], x[y_means == 1, 1], s = 100, c = 'brown', label = 'fastests')\n",
        "plt.scatter(km.cluster_centers_[:,0], km.cluster_centers_[:, 1], s = 50, c = 'blue' , label = 'centroid')\n",
        "\n",
        "plt.title('K Means Clustering', fontsize = 20)\n",
        "plt.xlabel('percentage Full Throttle')\n",
        "plt.ylabel('Speed')\n",
        "plt.legend()\n",
        "plt.show()\n"
      ]
    },
    {
      "cell_type": "markdown",
      "id": "795bba3b",
      "metadata": {
        "id": "795bba3b"
      },
      "source": [
        "### Multi-Dimensional Clustering"
      ]
    },
    {
      "cell_type": "code",
      "execution_count": null,
      "id": "12d3fd8f",
      "metadata": {
        "id": "12d3fd8f"
      },
      "outputs": [],
      "source": [
        "result_standings = pd.merge(results, races, on=['raceId'])\n",
        "\n",
        "def numRaces(driverId):\n",
        "  driver = results.loc[(results['driverId']==driverId)]\n",
        "  numRaces = len(driver.drop_duplicates())\n",
        "  return numRaces\n",
        "\n",
        "#ritorna il numero di vittorie\n",
        "def numWins(driverId):\n",
        "  #prende i risultati del driverId\n",
        "  driver = results.loc[(results['driverId']==driverId)] \n",
        "  #prende le gare in cui è arrivato primo\n",
        "  wins = driver.loc[(driver['positionOrder']==1)]\n",
        "  #il numero di righe corrisponde alle vittore\n",
        "  numWins = len(wins)\n",
        "  return numWins\n",
        "\n",
        "#analogo a numWins(id)\n",
        "def numSeconds(driverId):\n",
        "  driver = results.loc[(results['driverId']==driverId)] \n",
        "  seconds = driver.loc[(driver['positionOrder']==2)]\n",
        "  numSeconds = len(seconds)\n",
        "  return numSeconds\n",
        "\n",
        "#analogo a numWins(id)\n",
        "def numThirds(driverId):\n",
        "  driver = results.loc[(results['driverId']==driverId)] \n",
        "  thirds = driver.loc[(driver['positionOrder']==3)]\n",
        "  numThirds = len(thirds)\n",
        "  return numThirds\n",
        "\n",
        "def bestPosition(driverId):\n",
        "  driver = results.loc[(results['driverId']==driverId)]\n",
        "  bestPosition = driver['positionOrder'].min()\n",
        "  return bestPosition\n",
        "\n",
        "def maxWinsSingleYear(driverId):\n",
        "  #prende i risultati del driverId\n",
        "  driver = result_standings.loc[(result_standings['driverId']==driverId)] \n",
        "  #prende le gare in cui è arrivato primo\n",
        "  wins = driver.loc[(driver['positionOrder']==1)]\n",
        "  winsForYear = wins.groupby(['year']).sum()\n",
        "  maxWinsSingleYear = winsForYear['positionOrder'].max() \n",
        "  return maxWinsSingleYear"
      ]
    },
    {
      "cell_type": "code",
      "execution_count": null,
      "id": "bb9ab18f",
      "metadata": {
        "id": "bb9ab18f"
      },
      "outputs": [],
      "source": [
        "#analogo a numWins(id) ma prendo la griglia di partenza\n",
        "def numPoles(driverId):\n",
        "  driver = results.loc[(results['driverId']==driverId)] \n",
        "  poles = driver.loc[(driver['grid']==1)]\n",
        "  numPoles = len(poles)\n",
        "  return numPoles\n",
        "\n",
        "#analogo a numPoles(id)\n",
        "def numSecondsQuali(driverId):\n",
        "  driver = results.loc[(results['driverId']==driverId)] \n",
        "  secondsQuali = driver.loc[(driver['grid']==2)]\n",
        "  numSecondsQuali = len(secondsQuali)\n",
        "  return numSecondsQuali\n",
        "\n",
        "#analogo a numPoles(id)\n",
        "def numThirdsQuali(driverId):\n",
        "  driver = results.loc[(results['driverId']==driverId)] \n",
        "  thirdsQuali = driver.loc[(driver['grid']==3)]\n",
        "  numThirdsQuali = len(thirdsQuali)\n",
        "  return numThirdsQuali\n",
        "\n"
      ]
    },
    {
      "cell_type": "code",
      "execution_count": null,
      "id": "2875cf81",
      "metadata": {
        "id": "2875cf81"
      },
      "outputs": [],
      "source": [
        "standings = pd.merge(driver_standings, races, on=['raceId'])\n",
        "\n",
        "#massima posizione in classifica raggiunta (anche solo per una gara)\n",
        "def bestRank(driverId):\n",
        "  driver = standings.loc[(standings['driverId']==driverId)] \n",
        "  rank = driver.groupby(['year']).min()\n",
        "  bestRank = rank['position'].min()\n",
        "  return bestRank\n",
        "\n",
        "def round(year):\n",
        "  standingsYear = standings.loc[(standings['year']==year)]\n",
        "  round = standingsYear.loc[standingsYear['round'].idxmax()]\n",
        "  roundNum = round['round']\n",
        "  return roundNum\n",
        "\n",
        "#massima posizione in classifica finale\n",
        "def bestFinalRank(driverId):\n",
        "  driver = standings.loc[(standings['driverId']==driverId)]\n",
        "  totalRound = driver[['year', 'round', 'position']]  \n",
        "  df = pd.DataFrame()\n",
        "  df = totalRound\n",
        "  dfShort = df[['year', 'round']]\n",
        "  dfGroup = dfShort.groupby(['year']).max()\n",
        "\n",
        "  jointable = dfGroup.merge(df,how='left', on='year', left_index=False, right_index=False, sort=False, suffixes=('_x', '_y'), copy=True, indicator=False, validate=None)\n",
        "  jointableShort = jointable.loc[jointable['round_x'] ==jointable['round_y']]\n",
        "  bestFinalRank = jointableShort['position'].min()\n",
        "  return bestFinalRank\n",
        "\n",
        "def numWorldChampionship(driverId):\n",
        "  driver = standings.loc[(standings['driverId']==driverId)]\n",
        "  totalRound = driver[['year', 'round', 'position']]\n",
        "  df = pd.DataFrame()\n",
        "  df = totalRound\n",
        "  dfShort = df[['year', 'round']]\n",
        "  dfGroup = dfShort.groupby(['year']).max()\n",
        "\n",
        "  jointable = dfGroup.merge(df,how='left', on='year', left_index=False, right_index=False, sort=False, suffixes=('_x', '_y'), copy=True, indicator=False, validate=None)\n",
        "  jointableShort = jointable.loc[jointable['round_x'] ==jointable['round_y']]\n",
        "  worldChampionship = jointableShort.loc[jointableShort['position']==1]\n",
        "  numWorldChampionship = len(worldChampionship)\n",
        "  return numWorldChampionship\n",
        "\n",
        "#ritorna il totale dei punti conquistati\n",
        "def totalPoints (driverId):\n",
        "  driver = standings.loc[(standings['driverId']==driverId)]\n",
        "  points = driver.groupby(['year']).max() \n",
        "  totalPoints = points['points'].sum()\n",
        "  return totalPoints"
      ]
    },
    {
      "cell_type": "code",
      "execution_count": null,
      "id": "ed66bddb",
      "metadata": {},
      "outputs": [],
      "source": [
        "drivers"
      ]
    },
    {
      "cell_type": "code",
      "execution_count": null,
      "id": "6580983f",
      "metadata": {
        "id": "6580983f"
      },
      "outputs": [],
      "source": [
        "data = pd.DataFrame(columns= ['driverId', 'numRaces', 'numWins', 'numSeconds', 'numThirds', 'bestPosition', 'maxWinsSingleYear', 'numPoles', 'numSecondsQuali', 'numThirdsQuali', 'bestRank', 'bestFinalRank', 'numWorldChampionship', 'totalPoints'])\n",
        "\n",
        "data['driverId'] = drivers['driverId']\n",
        "\n",
        "data['numRaces'] = data.apply(lambda x: numRaces(x['driverId']), axis=1)\n",
        "\n",
        "data['numWins'] = data.apply(lambda x: numWins(x['driverId']), axis=1)\n",
        "data['numWins'] = data['numWins'].fillna(0)\n",
        "\n",
        "data['numSeconds'] = data.apply(lambda x: numSeconds(x['driverId']), axis=1)\n",
        "data['numSeconds'] = data['numSeconds'].fillna(0)\n",
        "\n",
        "data['numThirds'] = data.apply(lambda x: numThirds(x['driverId']), axis=1)\n",
        "data['numThirds'] = data['numThirds'].fillna(0)\n",
        "\n",
        "data['bestPosition'] = data.apply(lambda x: bestPosition(x['driverId']), axis=1)\n",
        "data['bestPosition'] = data['bestPosition'].fillna(0)\n",
        "\n",
        "data['maxWinsSingleYear'] = data.apply(lambda x: maxWinsSingleYear(x['driverId']), axis=1)\n",
        "data['maxWinsSingleYear'] = data['maxWinsSingleYear'].fillna(0)\n",
        "data['maxWinsSingleYear'] = data['maxWinsSingleYear'].astype(int)\n",
        "\n",
        "data['numPoles'] = data.apply(lambda x: numPoles(x['driverId']), axis=1)\n",
        "data['numPoles'] = data['numPoles'].fillna(0)\n",
        "\n",
        "data['numSecondsQuali'] = data.apply(lambda x: numSecondsQuali(x['driverId']), axis=1)\n",
        "data['numSecondsQuali'] = data['numSecondsQuali'].fillna(0)\n",
        "\n",
        "data['numThirdsQuali'] = data.apply(lambda x: numThirdsQuali(x['driverId']), axis=1)\n",
        "data['numThirdsQuali'] = data['numThirdsQuali'].fillna(0)\n",
        "\n",
        "data['bestRank'] = data.apply(lambda x: bestRank(x['driverId']), axis=1)\n",
        "data['bestRank'] = data['bestRank'].fillna(25)\n",
        "data['bestRank'] = data['bestRank'].astype(int)\n",
        "\n",
        "data['bestFinalRank'] = data.apply(lambda x: bestFinalRank(x['driverId']), axis=1)\n",
        "data['bestFinalRank'] = data['bestFinalRank'].fillna(25)\n",
        "data['bestFinalRank'] = data['bestFinalRank'].astype(int)\n",
        "\n",
        "data['numWorldChampionship'] = data.apply(lambda x: numWorldChampionship(x['driverId']), axis=1)\n",
        "data['numWorldChampionship'] = data['numWorldChampionship'].fillna(0)\n",
        "data['numWorldChampionship'] = data['numWorldChampionship'].astype(int)\n",
        "data['totalPoints'] = data.apply(lambda x: totalPoints(x['driverId']), axis=1)\n"
      ]
    },
    {
      "cell_type": "code",
      "execution_count": null,
      "id": "e5de5478",
      "metadata": {
        "id": "e5de5478"
      },
      "outputs": [],
      "source": [
        "from sklearn.preprocessing import StandardScaler\n",
        "sc = StandardScaler()\n",
        "\n",
        "stardard_data = sc.fit_transform(data[['numRaces', 'numWins', 'numSeconds', 'numThirds', 'bestPosition', 'maxWinsSingleYear', 'numPoles', 'numSecondsQuali', 'numThirdsQuali', 'bestRank', 'bestFinalRank', 'numWorldChampionship', 'totalPoints']])\n",
        "data[['numRaces', 'numWins', 'numSeconds', 'numThirds', 'bestPosition', 'maxWinsSingleYear', 'numPoles', 'numSecondsQuali', 'numThirdsQuali', 'bestRank', 'bestFinalRank', 'numWorldChampionship', 'totalPoints']] = stardard_data\n",
        "data"
      ]
    },
    {
      "cell_type": "code",
      "execution_count": null,
      "id": "6317e2ce",
      "metadata": {
        "id": "6317e2ce"
      },
      "outputs": [],
      "source": [
        "from sklearn.cluster import KMeans\n",
        "\n",
        "x = data.drop([\"driverId\"], axis=1).values\n",
        "wcss = []\n",
        "for i in range(1, 11):\n",
        "    kmeans = KMeans(n_clusters = i, init = 'k-means++', max_iter = 300, n_init = 10, random_state = 0)\n",
        "    kmeans.fit(x)\n",
        "    wcss.append(kmeans.inertia_)\n",
        "\n",
        "plt.figure(figsize=(15,5))\n",
        "plt.plot(range(1, 11), wcss)\n",
        "plt.title('K-Means Clustering(The Elbow Method)', fontsize = 20)\n",
        "plt.xlabel('All')\n",
        "plt.ylabel('wcss')\n",
        "plt.show()\n"
      ]
    },
    {
      "cell_type": "code",
      "execution_count": null,
      "id": "89f521b1",
      "metadata": {
        "id": "89f521b1"
      },
      "outputs": [],
      "source": [
        "from sklearn.decomposition import PCA\n",
        "\n",
        "pca = PCA(n_components=2, svd_solver=\"auto\").fit(x)\n",
        "pca_x = pca.transform(x)"
      ]
    },
    {
      "cell_type": "code",
      "execution_count": null,
      "id": "123fdb57",
      "metadata": {
        "id": "123fdb57"
      },
      "outputs": [],
      "source": [
        "kmeans = KMeans(n_clusters = 3, init = 'k-means++', max_iter = 300, n_init = 10, random_state = 0)\n",
        "ymeans = kmeans.fit_predict(x)\n",
        "\n",
        "plt.figure(figsize=(15,8))\n",
        "plt.title('Cluster of PCAs', fontsize = 30)\n",
        "\n",
        "plt.scatter(pca_x[ymeans == 0, 0], pca_x[ymeans == 0, 1], s = 100, c = 'pink')\n",
        "plt.scatter(pca_x[ymeans == 1, 0], pca_x[ymeans == 1, 1], s = 100, c = 'orange')\n",
        "plt.scatter(pca_x[ymeans == 2, 0], pca_x[ymeans == 2, 1], s = 100, c = 'lightgreen')\n",
        "plt.scatter(pca_x[ymeans == 3, 0], pca_x[ymeans == 3, 1], s = 100, c = 'blue')\n",
        "\n",
        "\n",
        "centers = pca.transform(kmeans.cluster_centers_)\n",
        "plt.scatter(centers[:, 0], centers[:, 1], s = 50, c = 'black', label=\"center\")\n",
        "\n",
        "plt.xlabel('PCA1')\n",
        "plt.ylabel('PCA2')\n",
        "plt.legend()\n",
        "plt.show()"
      ]
    },
    {
      "cell_type": "code",
      "execution_count": null,
      "id": "a4b6a9ed",
      "metadata": {
        "id": "a4b6a9ed"
      },
      "outputs": [],
      "source": [
        "\n",
        "\n",
        "pca = PCA()\n",
        "\n",
        "\n",
        "\n",
        "x = data.drop([\"driverId\"], axis=1).values\n",
        "X_train_pca = pca.fit_transform(x)\n",
        "\n",
        "\n",
        "\n",
        "exp_var_pca = pca.explained_variance_ratio_\n",
        "\n",
        "cum_sum_eigenvalues = np.cumsum(exp_var_pca)\n",
        "\n",
        "\n",
        "plt.bar(range(0,len(exp_var_pca)), exp_var_pca, alpha=0.5, align='center', label='Individual explained variance')\n",
        "\n",
        "plt.step(range(0,len(cum_sum_eigenvalues)), cum_sum_eigenvalues, where='mid',label='Cumulative explained variance')\n",
        "\n",
        "plt.ylabel('Explained variance ratio')\n",
        "\n",
        "plt.xlabel('Principal component index')\n",
        "\n",
        "plt.legend(loc='best')\n",
        "\n",
        "plt.tight_layout()\n",
        "\n",
        "plt.show()"
      ]
    },
    {
      "cell_type": "code",
      "execution_count": null,
      "id": "4f494d50",
      "metadata": {
        "id": "4f494d50"
      },
      "outputs": [],
      "source": [
        "import matplotlib.pyplot as plt\n",
        "from numpy.linalg import eigh\n",
        "\n",
        "x = data.drop([\"driverId\"], axis=1).values\n",
        "\n",
        "cov_matrix = np.cov(x, rowvar=False)\n",
        "\n",
        "egnvalues, egnvectors = eigh(cov_matrix)\n",
        "\n",
        "\n",
        "\n",
        "total_egnvalues = sum(egnvalues)\n",
        "\n",
        "var_exp = [(i/total_egnvalues) for i in sorted(egnvalues, reverse=True)]\n",
        "\n",
        "\n",
        "\n",
        "cum_sum_exp = np.cumsum(var_exp)\n",
        "\n",
        "plt.bar(range(0,len(var_exp)), var_exp, alpha=0.5, align='center', label='Individual explained variance')\n",
        "\n",
        "plt.step(range(0,len(cum_sum_exp)), cum_sum_exp, where='mid',label='Cumulative explained variance')\n",
        "\n",
        "plt.ylabel('Explained variance ratio')\n",
        "\n",
        "plt.xlabel('Principal component index')\n",
        "\n",
        "plt.legend(loc='best')\n",
        "\n",
        "plt.tight_layout()\n",
        "\n",
        "plt.show()"
      ]
    },
    {
      "cell_type": "code",
      "execution_count": null,
      "id": "be80d1d6",
      "metadata": {
        "id": "be80d1d6",
        "outputId": "cf55d442-b8b7-40a6-8faf-3d5d419439c9"
      },
      "outputs": [],
      "source": [
        "from yellowbrick.cluster import KElbowVisualizer\n",
        "\n",
        "# Instantiate the clustering model and visualizer\n",
        "model = KMeans()\n",
        "visualizer = KElbowVisualizer(model, k=(1,12))\n",
        "\n",
        "plt.figure(figsize=(15,8))\n",
        "visualizer.fit(x)        # Fit the data to the visualizer\n",
        "visualizer.show()"
      ]
    },
    {
      "cell_type": "code",
      "execution_count": null,
      "id": "3da0eb61",
      "metadata": {
        "id": "3da0eb61"
      },
      "outputs": [],
      "source": [
        "from yellowbrick.cluster import SilhouetteVisualizer\n",
        "\n",
        "\n",
        "# Instantiate the clustering model and visualizer\n",
        "model = KMeans(3, random_state=42)\n",
        "visualizer = SilhouetteVisualizer(model, colors='yellowbrick')\n",
        "\n",
        "plt.figure(figsize=(15,8))\n",
        "visualizer.fit(x)        # Fit the data to the visualizer\n",
        "visualizer.show()"
      ]
    },
    {
      "cell_type": "markdown",
      "id": "56c00b2b",
      "metadata": {
        "id": "56c00b2b"
      },
      "source": [
        "## Classification"
      ]
    },
    {
      "attachments": {},
      "cell_type": "markdown",
      "id": "SmsOqIS3X0AA",
      "metadata": {
        "id": "SmsOqIS3X0AA"
      },
      "source": [
        "### Hamilton - Verstappen classification\n"
      ]
    },
    {
      "cell_type": "code",
      "execution_count": null,
      "id": "TdedbWWuX-0K",
      "metadata": {
        "colab": {
          "base_uri": "https://localhost:8080/",
          "height": 235
        },
        "id": "TdedbWWuX-0K",
        "outputId": "6973efc6-ff90-43a8-a8a0-66269edc1ce8"
      },
      "outputs": [],
      "source": [
        "years = [2019, 2020, 2021]\n",
        "drivers = [44,33]\n",
        "races = ['Italy', 'Spain', 'Baharain', 'Abu Dhabi', 'Belgium', 'British']\n",
        "lapsArray = []\n",
        "for y in years:\n",
        "  for r in races:\n",
        "    session = ff1.get_session(y, r, 'R')\n",
        "    session.load()\n",
        "    for d in drivers:\n",
        "      print('YEAR: ', y, ' RACE:', r, ' DRIVER: ', d)\n",
        "      laps = session.laps.pick_driver(d).pick_accurate()\n",
        "      lapsArray.append(laps)\n",
        "      allLaps = pd.concat(lapsArray)  "
      ]
    },
    {
      "cell_type": "code",
      "execution_count": null,
      "id": "mVVC1WRSZkM5",
      "metadata": {
        "id": "mVVC1WRSZkM5"
      },
      "outputs": [],
      "source": [
        "ham_ver = pd.DataFrame\n",
        "ham_ver = allLaps\n"
      ]
    },
    {
      "cell_type": "code",
      "execution_count": null,
      "id": "KY-Y2xitZU3Q",
      "metadata": {
        "colab": {
          "base_uri": "https://localhost:8080/",
          "height": 661
        },
        "id": "KY-Y2xitZU3Q",
        "outputId": "4f52d566-fc83-46e4-90b0-8602f8a43ef8"
      },
      "outputs": [],
      "source": [
        "ham_ver"
      ]
    },
    {
      "cell_type": "code",
      "execution_count": null,
      "id": "t2oeBy2rgQcM",
      "metadata": {
        "colab": {
          "base_uri": "https://localhost:8080/",
          "height": 424
        },
        "id": "t2oeBy2rgQcM",
        "outputId": "1dc4c26b-1c76-463e-f540-aa397d514da2"
      },
      "outputs": [],
      "source": [
        "ham_ver = ham_ver[['DriverNumber', 'LapNumber', 'Sector1Time', 'Sector2Time', 'Sector3Time', 'SpeedI1', 'SpeedI2', 'SpeedFL', 'Compound', 'TyreLife']]\n",
        "ham_ver"
      ]
    },
    {
      "cell_type": "code",
      "execution_count": null,
      "id": "d_r-Mr9fWsEQ",
      "metadata": {
        "id": "d_r-Mr9fWsEQ"
      },
      "outputs": [],
      "source": [
        "ham_ver['Sector1Time'] = ham_ver['Sector1Time'].dt.total_seconds()\n",
        "ham_ver['Sector2Time'] = ham_ver['Sector2Time'].dt.total_seconds()\n",
        "ham_ver['Sector3Time'] = ham_ver['Sector3Time'].dt.total_seconds()"
      ]
    },
    {
      "cell_type": "code",
      "execution_count": null,
      "id": "i_Uw9wdPXVgI",
      "metadata": {
        "id": "i_Uw9wdPXVgI"
      },
      "outputs": [],
      "source": [
        "compound = pd.DataFrame()\n",
        "compound = pd.get_dummies(ham_ver['Compound'])\n",
        "compound = compound.dropna()\n",
        "compound\n",
        "ham_ver[['HARD', 'INTERMEDIATE', 'MEDIUM', 'SOFT']] = compound"
      ]
    },
    {
      "cell_type": "code",
      "execution_count": null,
      "id": "B4Mhay8abfy6",
      "metadata": {
        "id": "B4Mhay8abfy6"
      },
      "outputs": [],
      "source": [
        "ham_ver['WET']=0\n",
        "ham_ver"
      ]
    },
    {
      "cell_type": "code",
      "execution_count": null,
      "id": "22QMlSywbj4S",
      "metadata": {
        "colab": {
          "base_uri": "https://localhost:8080/",
          "height": 165
        },
        "id": "22QMlSywbj4S",
        "outputId": "16d05fff-c05d-422b-f2b8-5ac0a55b9575"
      },
      "outputs": [],
      "source": [
        "ham_ver = ham_ver.to_csv('/content/gdrive/MyDrive/DataScience/classification.csv', index = False)"
      ]
    },
    {
      "cell_type": "code",
      "execution_count": null,
      "id": "UsKQX7JZcD1R",
      "metadata": {
        "colab": {
          "base_uri": "https://localhost:8080/",
          "height": 488
        },
        "id": "UsKQX7JZcD1R",
        "outputId": "23bb5025-c560-41e3-cec7-10f67110a06b"
      },
      "outputs": [],
      "source": [
        "d = pd.DataFrame()\n",
        "d = pd.read_csv('/content/gdrive/MyDrive/DataScience/classification.csv')\n",
        "d"
      ]
    },
    {
      "cell_type": "code",
      "execution_count": null,
      "id": "anxzaRvbdrjc",
      "metadata": {
        "id": "anxzaRvbdrjc"
      },
      "outputs": [],
      "source": [
        "d['DriverNumber'] = d['DriverNumber'].replace(44,0)\n",
        "d['DriverNumber'] = d['DriverNumber'].replace(33,1)"
      ]
    },
    {
      "cell_type": "code",
      "execution_count": null,
      "id": "i42Q-sZfdTH8",
      "metadata": {
        "colab": {
          "base_uri": "https://localhost:8080/",
          "height": 424
        },
        "id": "i42Q-sZfdTH8",
        "outputId": "39ebcc96-dbda-4a9e-c503-fbfd6e6ec538"
      },
      "outputs": [],
      "source": [
        "driver = d[['DriverNumber']]\n",
        "driver"
      ]
    },
    {
      "cell_type": "code",
      "execution_count": null,
      "id": "_lGL7MdIdTID",
      "metadata": {
        "id": "_lGL7MdIdTID"
      },
      "outputs": [],
      "source": [
        "d = d.drop(['DriverNumber'], axis = 1)"
      ]
    },
    {
      "cell_type": "code",
      "execution_count": null,
      "id": "mLTD2psldTID",
      "metadata": {
        "id": "mLTD2psldTID"
      },
      "outputs": [],
      "source": [
        "testing = d.sample(frac = 0.3)\n",
        "d = d.drop(testing.index)"
      ]
    },
    {
      "cell_type": "code",
      "execution_count": null,
      "id": "5nYm7dNDdTID",
      "metadata": {
        "id": "5nYm7dNDdTID"
      },
      "outputs": [],
      "source": [
        "# Main libraries\n",
        "import pandas as pd\n",
        "import numpy as np\n",
        "import matplotlib.pyplot as plt\n",
        "import seaborn as sns\n",
        "\n",
        "#Processing libraries\n",
        "from sklearn.preprocessing import StandardScaler,MinMaxScaler\n",
        "\n",
        "# Model libraries\n",
        "from sklearn.linear_model import LogisticRegression\n",
        "from sklearn.neighbors import KNeighborsClassifier\n",
        "from sklearn.svm import SVC, LinearSVC, NuSVC\n",
        "from sklearn.tree import DecisionTreeClassifier\n",
        "from sklearn.ensemble import RandomForestClassifier, AdaBoostClassifier, GradientBoostingClassifier, ExtraTreesClassifier, VotingClassifier\n",
        "from sklearn.neural_network import MLPClassifier\n",
        "from sklearn.discriminant_analysis import LinearDiscriminantAnalysis, QuadraticDiscriminantAnalysis\n",
        "from sklearn.naive_bayes import GaussianNB\n",
        "\n",
        "# Testing libraries\n",
        "from sklearn.model_selection import train_test_split, cross_val_score, StratifiedKFold, GridSearchCV, learning_curve\n",
        "from sklearn.metrics import accuracy_score, log_loss, confusion_matrix, classification_report, roc_curve, auc\n",
        "\n",
        "# Ignore warnings\n",
        "import warnings\n",
        "warnings.filterwarnings('ignore')\n",
        "sns.set(font_scale=1.8)"
      ]
    },
    {
      "cell_type": "code",
      "execution_count": null,
      "id": "8Xze03KpdTIE",
      "metadata": {
        "colab": {
          "base_uri": "https://localhost:8080/",
          "height": 488
        },
        "id": "8Xze03KpdTIE",
        "outputId": "693761b2-0421-472b-8bdd-22dce876a90e"
      },
      "outputs": [],
      "source": [
        "scaler = MinMaxScaler()\n",
        "scaled_d = scaler.fit_transform(d[['LapNumber', 'Sector1Time', 'Sector2Time', 'Sector3Time', 'SpeedI1', 'SpeedI2', 'SpeedFL','TyreLife']])\n",
        "d[['LapNumber', 'Sector1Time', 'Sector2Time', 'Sector3Time', 'SpeedI1', 'SpeedI2', 'SpeedFL','TyreLife']] = scaled_d\n",
        "d\n"
      ]
    },
    {
      "cell_type": "code",
      "execution_count": null,
      "id": "qxi-SmlGdTIE",
      "metadata": {
        "colab": {
          "base_uri": "https://localhost:8080/"
        },
        "id": "qxi-SmlGdTIE",
        "outputId": "7208eb42-1211-4a18-8641-cbb1f1a1c53d"
      },
      "outputs": [],
      "source": [
        "# Class balance\n",
        "d['DriverNumber'] = pd.DataFrame(driver)\n",
        "ld = d[d.DriverNumber == 0] #hamilton\n",
        "no_ld = d[d.DriverNumber == 1] #verstappen\n",
        "print(\"SURVIVED: \", len(ld), \" NOT SURVIVED: \", len(no_ld))"
      ]
    },
    {
      "cell_type": "code",
      "execution_count": null,
      "id": "SF41S--QdTIE",
      "metadata": {
        "colab": {
          "base_uri": "https://localhost:8080/"
        },
        "id": "SF41S--QdTIE",
        "outputId": "1391f996-176c-4849-9ece-0405e8b2b8db"
      },
      "outputs": [],
      "source": [
        "balanced_d = pd.concat([no_ld, ld.sample(len(no_ld))])\n",
        "x = balanced_d.iloc[:,:-1]\n",
        "y = balanced_d.iloc[:,-1:]\n",
        "balanced_d.shape"
      ]
    },
    {
      "cell_type": "code",
      "execution_count": null,
      "id": "whUEFapsdTIE",
      "metadata": {
        "colab": {
          "base_uri": "https://localhost:8080/",
          "height": 508
        },
        "id": "whUEFapsdTIE",
        "outputId": "505f7052-b0e8-4d7b-d0e8-6389ada2c984"
      },
      "outputs": [],
      "source": [
        "plt.figure(figsize=(30,15))\n",
        "ax = sns.heatmap(d[d.columns].corr(),cmap=\"Blues\",annot=True,annot_kws={\"size\": 18})"
      ]
    },
    {
      "cell_type": "code",
      "execution_count": null,
      "id": "xBaak6tCdTIE",
      "metadata": {
        "colab": {
          "base_uri": "https://localhost:8080/",
          "height": 508
        },
        "id": "xBaak6tCdTIE",
        "outputId": "867bae56-290d-48d8-8a58-03d517af9736"
      },
      "outputs": [],
      "source": [
        "plt.figure(figsize=(30,15))\n",
        "ax = sns.heatmap(x.corr(),cmap=\"Blues\",annot=True,annot_kws={\"size\": 18})"
      ]
    },
    {
      "cell_type": "code",
      "execution_count": null,
      "id": "c4Fm1z4ydTIF",
      "metadata": {
        "colab": {
          "base_uri": "https://localhost:8080/"
        },
        "id": "c4Fm1z4ydTIF",
        "outputId": "8182faa8-b30c-4644-d439-161c0e0786f5"
      },
      "outputs": [],
      "source": [
        "# Random state\n",
        "rs = 42\n",
        "\n",
        "# Split the data to check which algorithms learn better (later on we can check )\n",
        "x_train, x_test, y_train, y_test = train_test_split(x, y, test_size=0.2, random_state=rs)\n",
        "\n",
        "# look at the shape of the data (many problems can arise from wrong shape)\n",
        "print(x_train.shape)\n",
        "print(x_test.shape)\n",
        "print(y_train.shape)\n",
        "print(y_test.shape)"
      ]
    },
    {
      "cell_type": "code",
      "execution_count": null,
      "id": "gOahkE0MdTIF",
      "metadata": {
        "id": "gOahkE0MdTIF"
      },
      "outputs": [],
      "source": [
        "\n",
        "# List of classifiers:\n",
        "classifiers = [\n",
        "    RandomForestClassifier(n_estimators = 100, random_state=rs),\n",
        "    GradientBoostingClassifier(n_estimators=1000, learning_rate=0.9, max_depth=10, random_state=rs),\n",
        "    KNeighborsClassifier(3),\n",
        "    DecisionTreeClassifier(random_state=rs),\n",
        "    AdaBoostClassifier(n_estimators=100, random_state=rs, learning_rate =0.9),\n",
        "    MLPClassifier(alpha=0.01, max_iter=1000),\n",
        "    SVC(C=0.5, probability=True),\n",
        "    LogisticRegression(C = 0.01,random_state = rs),\n",
        "]\n",
        "\n",
        "# List of results that will occure:\n",
        "clf_name = [] # names of the classifiers\n",
        "model_results = pd.DataFrame.copy(y_test) #resulting of prediction from the models\n",
        "\n",
        "kfold = StratifiedKFold(n_splits=5) #cross-validation\n",
        "cv_results = [] # scores from cross validation\n",
        "cv_acc = [] # mean accuracy from cross validation, need to maximize\n",
        "cv_std = [] # standard deviation from cross validation, need to minimise\n",
        "\n",
        "cnfm = [] #confusion matrix\n",
        "clr = [] #classification report\n",
        "roc_auc = [] #roc curve:\n",
        "roc_tpr = []\n",
        "roc_fpr = []\n"
      ]
    },
    {
      "cell_type": "code",
      "execution_count": null,
      "id": "1XRV8mi5dTIF",
      "metadata": {
        "colab": {
          "base_uri": "https://localhost:8080/"
        },
        "id": "1XRV8mi5dTIF",
        "outputId": "fa1b5da9-9482-45f3-d1f0-9ec3fd57908e"
      },
      "outputs": [],
      "source": [
        "# Training the algorithms and results\n",
        "for clf in classifiers:\n",
        "    name = clf.__class__.__name__\n",
        "    clf_name.append(name)\n",
        "    \n",
        "    #fitting and predictions\n",
        "    model = clf.fit(x_train, y_train)\n",
        "    y_pred = model.predict(x_test)\n",
        "    model_results[name] = y_pred\n",
        "    \n",
        "    #accuracy and log loss\n",
        "    cv_results.append(cross_val_score(clf, x_train, y_train, scoring = \"accuracy\",cv = kfold))\n",
        "    acc = round(accuracy_score(y_test, y_pred), 2) #need to maximize\n",
        "    train_pred = clf.predict_proba(x_test)\n",
        "    print(f'Accuracy: {acc} \\t ---> {name} ')\n",
        "    \n",
        "    #confusion matrix, clasification report, roc curve\n",
        "    cnfm.append(confusion_matrix(y_test, y_pred))\n",
        "    clr.append(classification_report(y_test, y_pred))\n",
        "    fpr, tpr, thresholds = roc_curve(y_pred, y_test)\n",
        "    roc_auc.append(auc(fpr, tpr))\n",
        "    roc_tpr.append(tpr)\n",
        "    roc_fpr.append(fpr)\n",
        "    \n",
        "\n",
        "for i in cv_results:\n",
        "    cv_acc.append(i.mean())\n",
        "    cv_std.append(i.std())\n"
      ]
    },
    {
      "cell_type": "code",
      "execution_count": null,
      "id": "jPUnmawMdTIF",
      "metadata": {
        "colab": {
          "base_uri": "https://localhost:8080/",
          "height": 405
        },
        "id": "jPUnmawMdTIF",
        "outputId": "3e048f7d-0b1f-467a-a655-6a94bddf537f"
      },
      "outputs": [],
      "source": [
        "# Cross validation accuracy results graph\n",
        "cv_res = pd.DataFrame({\"CrossValMeans\":cv_acc, \"CrossValerrors\": cv_std,\"Algorithm\":clf_name})\n",
        "\n",
        "plt.figure(figsize=(12,6))\n",
        "sns.barplot(\"CrossValMeans\",\"Algorithm\",data = cv_res, palette=\"Set2\",orient = \"h\",**{'xerr':cv_std})\n",
        "plt.xlabel(\"Mean Accuracy\")\n",
        "plt.title(\"Cross validation scores\")\n"
      ]
    },
    {
      "cell_type": "code",
      "execution_count": null,
      "id": "jLor16YWdTIF",
      "metadata": {
        "colab": {
          "base_uri": "https://localhost:8080/",
          "height": 351
        },
        "id": "jLor16YWdTIF",
        "outputId": "996ea3f3-2183-4b4e-d018-c6fd1f825e7d"
      },
      "outputs": [],
      "source": [
        "# Confusion matrixes (not-normalized confusion matrix)\n",
        "plt.figure(figsize=(25,20))\n",
        "sns.set(font_scale=1.4)\n",
        "for i in range(len(classifiers)):\n",
        "    plt.subplot(4,4,i+1) #adjust this acourding to the number of algorithms\n",
        "    sns.heatmap(cnfm[i], annot=True, fmt=\"d\",cmap=\"Blues\")\n",
        "    plt.ylabel('Actual')\n",
        "    plt.title(clf_name[i])"
      ]
    },
    {
      "cell_type": "code",
      "execution_count": null,
      "id": "AyBtJxJcdTIF",
      "metadata": {
        "colab": {
          "base_uri": "https://localhost:8080/"
        },
        "id": "AyBtJxJcdTIF",
        "outputId": "e25f88af-1ba2-43d8-ee0f-ba163fa86603"
      },
      "outputs": [],
      "source": [
        "#Classification reports\n",
        "for i in range(len(classifiers)):\n",
        "    print (f\"{clf_name[i]} Classification Report:\" );\n",
        "    print (clr[i]);"
      ]
    },
    {
      "cell_type": "code",
      "execution_count": null,
      "id": "f3PzzADlvQQO",
      "metadata": {
        "colab": {
          "base_uri": "https://localhost:8080/",
          "height": 494
        },
        "id": "f3PzzADlvQQO",
        "outputId": "e9a899c4-0120-4f34-e9d4-62c886c02d0f"
      },
      "outputs": [],
      "source": [
        "plt.figure(figsize=(15,8))\n",
        "for i in range(len(classifiers)):\n",
        "    cm = ['red', 'blue', 'orange', 'green', 'pink', 'yellow', 'lightgreen', 'black', 'purple', 'lightblue'] #add more colours for more algorithms\n",
        "    plt.plot(roc_fpr[i], roc_tpr[i], c=cm[i], lw=1, label=clf_name[i].replace(\"Classifier\", \"\") + \" (AUC = \" + str(round(roc_auc[i],2)) + \")\")\n",
        "    plt.plot([0, 1], [0, 1], color='navy', lw=1, linestyle='--')\n",
        "    plt.xlabel('False Positive Rate')\n",
        "    plt.ylabel('True Positive Rate')\n",
        "    plt.title('ROC curve: Receiver Operating Characteristic')\n",
        "    plt.legend(loc=\"lower right\")"
      ]
    },
    {
      "cell_type": "code",
      "execution_count": null,
      "id": "Ms_-BdlGvTbN",
      "metadata": {
        "colab": {
          "base_uri": "https://localhost:8080/"
        },
        "id": "Ms_-BdlGvTbN",
        "outputId": "70ed64fb-95be-4505-b2d1-e2f047d7b903"
      },
      "outputs": [],
      "source": [
        "# Search grid for optimal parameters\n",
        "#n_estimators=100, random_state=rs, learning_rate =0.9\n",
        "AB_param = {\"n_estimators\":[100,300],\n",
        "            \"learning_rate\": [0.1, 0.75, 0.9, 1, 1.25,1.5,2]}\n",
        "\n",
        "RF_param = {\"max_depth\": [None],\n",
        "            \"max_features\": [0.3, 0.7, 1],\n",
        "            \"min_samples_split\": [2, 3, 10],\n",
        "            \"min_samples_leaf\": [1, 3, 10],\n",
        "            \"bootstrap\": [False],\n",
        "            \"n_estimators\" :[100,300],\n",
        "            \"criterion\": [\"gini\"]}\n",
        "\n",
        "#using 4 n_jobs for faster processing\n",
        "DTgs = GridSearchCV(AdaBoostClassifier(), param_grid=AB_param, cv=kfold, n_jobs=4, scoring=\"accuracy\", verbose = 1)\n",
        "RFgs = GridSearchCV(RandomForestClassifier(), param_grid=RF_param, cv=kfold, n_jobs=4, scoring=\"accuracy\", verbose = 1)\n",
        "\n",
        "models = [DTgs, RFgs]\n",
        "\n",
        "gs_model = []\n",
        "score = []\n",
        "\n",
        "for model in models:\n",
        "    model.fit(x_train, y_train)\n",
        "    gs_model.append(model.best_estimator_)\n",
        "    score.append(model.best_score_)"
      ]
    },
    {
      "cell_type": "code",
      "execution_count": null,
      "id": "gIU5zNYTvWrI",
      "metadata": {
        "colab": {
          "base_uri": "https://localhost:8080/"
        },
        "id": "gIU5zNYTvWrI",
        "outputId": "9e264d13-3df5-4b67-ad5d-fa081db8a6c1"
      },
      "outputs": [],
      "source": [
        "# scores without gridsearch\n",
        "print(\"score without GridSearchCV: \", round(cv_acc[1], 3), round(cv_acc[3], 3))\n",
        "# scores with gridsearch\n",
        "print(\"score with GridSearchCV: \", round(score[0], 3), round(score[1], 3))"
      ]
    },
    {
      "cell_type": "code",
      "execution_count": null,
      "id": "NvkD78nyvYzw",
      "metadata": {
        "colab": {
          "base_uri": "https://localhost:8080/",
          "height": 607
        },
        "id": "NvkD78nyvYzw",
        "outputId": "fa2c891d-a4a2-488d-ac38-fbede83a7e71"
      },
      "outputs": [],
      "source": [
        "# Check for correlation between models: Make a correlation graph\n",
        "plt.figure(figsize=(15,8))\n",
        "sns.heatmap(model_results.drop(\"DriverNumber\", axis=1).corr(),annot=True)\n",
        "plt.title(\"Correlation between models\")"
      ]
    },
    {
      "cell_type": "code",
      "execution_count": null,
      "id": "iLAiM4nBvfJQ",
      "metadata": {
        "colab": {
          "base_uri": "https://localhost:8080/"
        },
        "id": "iLAiM4nBvfJQ",
        "outputId": "0b9f170e-efe4-49be-e207-f85ca8c81378"
      },
      "outputs": [],
      "source": [
        "# Do model ensembling\n",
        "best_model = VotingClassifier(estimators=[('dt', gs_model[0]), ('ab', gs_model[1])], \n",
        "                              voting='soft', n_jobs=4)\n",
        "best_model.fit(x_train,y_train)\n",
        "print(accuracy_score(y_test,best_model.predict(x_test)))"
      ]
    },
    {
      "cell_type": "code",
      "execution_count": null,
      "id": "MZi_pJ79vhYp",
      "metadata": {
        "id": "MZi_pJ79vhYp"
      },
      "outputs": [],
      "source": [
        "# Load the test data\n",
        "\n",
        "\n",
        "\n",
        "\n",
        "d2 = testing\n",
        "PassengerId = driver \n",
        "\n",
        "\n",
        "# Data Normalization\n",
        "\n",
        "\n",
        "scaled_d2 = scaler.fit_transform(d2[['LapNumber', 'Sector1Time', 'Sector2Time', 'Sector3Time', 'SpeedI1', 'SpeedI2', 'SpeedFL','TyreLife']])\n",
        "d2[['LapNumber', 'Sector1Time', 'Sector2Time', 'Sector3Time', 'SpeedI1', 'SpeedI2', 'SpeedFL','TyreLife']] = scaled_d2\n"
      ]
    },
    {
      "cell_type": "code",
      "execution_count": null,
      "id": "_ZhtZRJxzvEl",
      "metadata": {
        "id": "_ZhtZRJxzvEl"
      },
      "outputs": [],
      "source": [
        "d2 = d2.drop(columns = 'label')"
      ]
    },
    {
      "cell_type": "code",
      "execution_count": null,
      "id": "5Ajt4wv9vj97",
      "metadata": {
        "id": "5Ajt4wv9vj97"
      },
      "outputs": [],
      "source": [
        "#train the model on the whole dataset and produce results:\n",
        "survived_pred = pd.Series(best_model.predict(d2), name='Drivers')"
      ]
    },
    {
      "cell_type": "code",
      "execution_count": null,
      "id": "Smhn4gzEvlf4",
      "metadata": {
        "colab": {
          "base_uri": "https://localhost:8080/"
        },
        "id": "Smhn4gzEvlf4",
        "outputId": "d85384f7-b5b7-47af-9ead-f823b0d631c5"
      },
      "outputs": [],
      "source": [
        "survived_pred.value_counts()"
      ]
    },
    {
      "cell_type": "code",
      "execution_count": null,
      "id": "eFKY-RO1vnAa",
      "metadata": {
        "id": "eFKY-RO1vnAa"
      },
      "outputs": [],
      "source": [
        "from yellowbrick.classifier import PrecisionRecallCurve\n",
        "from yellowbrick.classifier import ROCAUC\n",
        "from yellowbrick.model_selection import LearningCurve"
      ]
    },
    {
      "cell_type": "code",
      "execution_count": null,
      "id": "-j8g9MT7vouv",
      "metadata": {
        "colab": {
          "base_uri": "https://localhost:8080/",
          "height": 571
        },
        "id": "-j8g9MT7vouv",
        "outputId": "2545ce02-7dc2-4617-a935-f8ca2c26eaa0"
      },
      "outputs": [],
      "source": [
        "# Instantiate the visualizer with the classification model\n",
        "plt.figure(figsize=(12,8))\n",
        "visualizer = ROCAUC(best_model, classes=[\"not_survived\", \"survived\"], micro=False, macro=False, binary=True)\n",
        "visualizer.fit(x_train, y_train)        # Fit the training data to the visualizer\n",
        "visualizer.score(x_test, y_test)        # Evaluate the model on the test data\n",
        "visualizer.show()                       # Finalize and show the figure"
      ]
    },
    {
      "cell_type": "code",
      "execution_count": null,
      "id": "JDSlq6rHvqEE",
      "metadata": {
        "colab": {
          "base_uri": "https://localhost:8080/",
          "height": 571
        },
        "id": "JDSlq6rHvqEE",
        "outputId": "cf29727b-f0d0-40e4-92f5-c6919bce9b34"
      },
      "outputs": [],
      "source": [
        "plt.figure(figsize=(12,8))\n",
        "# Create the visualizer, fit, score, and show it\n",
        "viz = PrecisionRecallCurve(best_model)\n",
        "viz.fit(x_train, y_train)\n",
        "viz.score(x_test, y_test)\n",
        "viz.show()"
      ]
    },
    {
      "cell_type": "code",
      "execution_count": null,
      "id": "YOk5IAkavsP2",
      "metadata": {
        "colab": {
          "base_uri": "https://localhost:8080/",
          "height": 571
        },
        "id": "YOk5IAkavsP2",
        "outputId": "65513c52-19b0-4fee-ef8b-1536340c2cf7"
      },
      "outputs": [],
      "source": [
        "# Create the learning curve visualizer\n",
        "cv = StratifiedKFold(n_splits=5)\n",
        "sizes = np.linspace(0.3, 1.0, 10)\n",
        "\n",
        "plt.figure(figsize=(12,8))\n",
        "visualizer = LearningCurve(\n",
        "    best_model, cv=cv, scoring='f1_weighted', train_sizes=sizes, n_jobs=4\n",
        ")\n",
        "\n",
        "visualizer.fit(x, y)        # Fit the data to the visualizer\n",
        "visualizer.show()           # Finalize and render the figure"
      ]
    },
    {
      "attachments": {},
      "cell_type": "markdown",
      "id": "zGKt5OR79jxW",
      "metadata": {
        "id": "zGKt5OR79jxW"
      },
      "source": [
        "### Vettel - Alonso Classification"
      ]
    },
    {
      "cell_type": "code",
      "execution_count": null,
      "id": "SE_abPu89pqP",
      "metadata": {
        "id": "SE_abPu89pqP"
      },
      "outputs": [],
      "source": [
        "results = pd.read_csv('results.csv')\n",
        "d = results.loc[(results['driverId'] == 4)|(results['driverId'] == 20)]\n",
        "d = d.drop(d[d.position == '\\\\N'].index)\n",
        "d = d.drop(d[d.milliseconds == '\\\\N'].index)\n",
        "d = d.drop(d[d.fastestLapTime == '\\\\N'].index)\n",
        "\n",
        "d = d[['driverId', 'position', 'milliseconds', 'fastestLap', 'rank', 'fastestLapSpeed']]\n",
        "d['position'] = d['position'].astype(int)\n",
        "d['milliseconds'] = d['milliseconds'].astype(int)\n",
        "d['rank'] = d['rank'].astype(int)\n",
        "d['fastestLapSpeed'] = d['fastestLapSpeed'].astype(float)\n",
        "d['fastestLap'] = d['fastestLap'].astype(int)\n",
        "d['driverId'] = d['driverId'].replace(4, 0)\n",
        "d['driverId'] = d['driverId'].replace(20, 1)"
      ]
    },
    {
      "cell_type": "code",
      "execution_count": null,
      "id": "UHq8bgP5Q2LY",
      "metadata": {
        "colab": {
          "base_uri": "https://localhost:8080/",
          "height": 424
        },
        "id": "UHq8bgP5Q2LY",
        "outputId": "62abeb47-c15f-4e10-e1ea-6cdf6b4d1271"
      },
      "outputs": [],
      "source": [
        "driver = d[['driverId']]\n",
        "driver"
      ]
    },
    {
      "cell_type": "code",
      "execution_count": null,
      "id": "DAbo706pRuGV",
      "metadata": {
        "id": "DAbo706pRuGV"
      },
      "outputs": [],
      "source": [
        "d = d.drop(['driverId'], axis = 1)"
      ]
    },
    {
      "cell_type": "code",
      "execution_count": null,
      "id": "rPTKMZj3B8PK",
      "metadata": {
        "id": "rPTKMZj3B8PK"
      },
      "outputs": [],
      "source": [
        "testing = d.sample(frac = 0.3)\n",
        "d = d.drop(testing.index)"
      ]
    },
    {
      "cell_type": "code",
      "execution_count": null,
      "id": "NJE9bxu2CEiA",
      "metadata": {
        "id": "NJE9bxu2CEiA"
      },
      "outputs": [],
      "source": [
        "# Main libraries\n",
        "import pandas as pd\n",
        "import numpy as np\n",
        "import matplotlib.pyplot as plt\n",
        "import seaborn as sns\n",
        "\n",
        "#Processing libraries\n",
        "from sklearn.preprocessing import StandardScaler,MinMaxScaler\n",
        "\n",
        "# Model libraries\n",
        "from sklearn.linear_model import LogisticRegression\n",
        "from sklearn.neighbors import KNeighborsClassifier\n",
        "from sklearn.svm import SVC, LinearSVC, NuSVC\n",
        "from sklearn.tree import DecisionTreeClassifier\n",
        "from sklearn.ensemble import RandomForestClassifier, AdaBoostClassifier, GradientBoostingClassifier, ExtraTreesClassifier, VotingClassifier\n",
        "from sklearn.neural_network import MLPClassifier\n",
        "from sklearn.discriminant_analysis import LinearDiscriminantAnalysis, QuadraticDiscriminantAnalysis\n",
        "from sklearn.naive_bayes import GaussianNB\n",
        "\n",
        "# Testing libraries\n",
        "from sklearn.model_selection import train_test_split, cross_val_score, StratifiedKFold, GridSearchCV, learning_curve\n",
        "from sklearn.metrics import accuracy_score, log_loss, confusion_matrix, classification_report, roc_curve, auc\n",
        "\n",
        "# Ignore warnings\n",
        "import warnings\n",
        "warnings.filterwarnings('ignore')\n",
        "sns.set(font_scale=1.8)"
      ]
    },
    {
      "cell_type": "code",
      "execution_count": null,
      "id": "c7LO33R9CEiB",
      "metadata": {
        "colab": {
          "base_uri": "https://localhost:8080/",
          "height": 424
        },
        "id": "c7LO33R9CEiB",
        "outputId": "e3b35559-85e6-4457-867f-384b608249d8"
      },
      "outputs": [],
      "source": [
        "scaler = MinMaxScaler()\n",
        "scaled_d = scaler.fit_transform(d[[ 'position', 'milliseconds', 'fastestLap', 'rank', 'fastestLapSpeed']])\n",
        "d[[ 'position', 'milliseconds', 'fastestLap', 'rank', 'fastestLapSpeed']] = scaled_d\n",
        "d\n"
      ]
    },
    {
      "cell_type": "code",
      "execution_count": null,
      "id": "6ltdx6COCEiC",
      "metadata": {
        "colab": {
          "base_uri": "https://localhost:8080/"
        },
        "id": "6ltdx6COCEiC",
        "outputId": "dfeef122-b1c1-49f1-e44d-8595ea30d031"
      },
      "outputs": [],
      "source": [
        "# Class balance\n",
        "d['driverId'] = pd.DataFrame(driver)\n",
        "ld = d[d.driverId == 0] #alonso\n",
        "no_ld = d[d.driverId == 1] #vettel\n",
        "print(\"SURVIVED: \", len(ld), \" NOT SURVIVED: \", len(no_ld))"
      ]
    },
    {
      "cell_type": "code",
      "execution_count": null,
      "id": "xcBLSukVCEiC",
      "metadata": {
        "colab": {
          "base_uri": "https://localhost:8080/"
        },
        "id": "xcBLSukVCEiC",
        "outputId": "086270dc-ff75-4bc3-aab5-9240a75b91cf"
      },
      "outputs": [],
      "source": [
        "balanced_d = pd.concat([ld, no_ld.sample(len(ld))])\n",
        "x = balanced_d.iloc[:,:-1]\n",
        "y = balanced_d.iloc[:,-1:]\n",
        "balanced_d.shape"
      ]
    },
    {
      "cell_type": "code",
      "execution_count": null,
      "id": "8__0yb_PCEiD",
      "metadata": {
        "colab": {
          "base_uri": "https://localhost:8080/",
          "height": 845
        },
        "id": "8__0yb_PCEiD",
        "outputId": "04001a49-128d-400c-f59f-f458fca32f0e"
      },
      "outputs": [],
      "source": [
        "plt.figure(figsize=(30,15))\n",
        "ax = sns.heatmap(d[d.columns].corr(),cmap=\"Blues\",annot=True,annot_kws={\"size\": 18})"
      ]
    },
    {
      "cell_type": "code",
      "execution_count": null,
      "id": "wN64lWBETea8",
      "metadata": {
        "colab": {
          "base_uri": "https://localhost:8080/",
          "height": 902
        },
        "id": "wN64lWBETea8",
        "outputId": "61f86968-1c32-40fc-ea3a-9102f7d8885d"
      },
      "outputs": [],
      "source": [
        "plt.figure(figsize=(30,15))\n",
        "ax = sns.heatmap(x.corr(),cmap=\"Blues\",annot=True,annot_kws={\"size\": 18})"
      ]
    },
    {
      "cell_type": "code",
      "execution_count": null,
      "id": "LSM3jZAQCEiD",
      "metadata": {
        "colab": {
          "base_uri": "https://localhost:8080/"
        },
        "id": "LSM3jZAQCEiD",
        "outputId": "c9a4f0e6-abcb-4238-c806-a7e7e82c5fb8"
      },
      "outputs": [],
      "source": [
        "# Random state\n",
        "rs = 42\n",
        "\n",
        "# Split the data to check which algorithms learn better (later on we can check )\n",
        "x_train, x_test, y_train, y_test = train_test_split(x, y, test_size=0.2, random_state=rs)\n",
        "\n",
        "# look at the shape of the data (many problems can arise from wrong shape)\n",
        "print(x_train.shape)\n",
        "print(x_test.shape)\n",
        "print(y_train.shape)\n",
        "print(y_test.shape)"
      ]
    },
    {
      "cell_type": "code",
      "execution_count": null,
      "id": "ZL2yf1E-CEiE",
      "metadata": {
        "id": "ZL2yf1E-CEiE"
      },
      "outputs": [],
      "source": [
        "\n",
        "# List of classifiers:\n",
        "classifiers = [\n",
        "    LogisticRegression(random_state = rs),\n",
        "    DecisionTreeClassifier(random_state=rs),\n",
        "    SVC(probability=True),\n",
        "    RandomForestClassifier(n_estimators = 10, random_state=rs),\n",
        "]\n",
        "\n",
        "# List of results that will occure:\n",
        "clf_name = [] # names of the classifiers\n",
        "model_results = pd.DataFrame.copy(y_test) #resulting of prediction from the models\n",
        "\n",
        "kfold = StratifiedKFold(n_splits=5) #cross-validation\n",
        "cv_results = [] # scores from cross validation\n",
        "cv_acc = [] # mean accuracy from cross validation, need to maximize\n",
        "cv_std = [] # standard deviation from cross validation, need to minimise\n",
        "\n",
        "cnfm = [] #confusion matrix\n",
        "clr = [] #classification report\n",
        "roc_auc = [] #roc curve:\n",
        "roc_tpr = []\n",
        "roc_fpr = []\n"
      ]
    },
    {
      "cell_type": "code",
      "execution_count": null,
      "id": "O5Oz2M8kCEiE",
      "metadata": {
        "colab": {
          "base_uri": "https://localhost:8080/"
        },
        "id": "O5Oz2M8kCEiE",
        "outputId": "8135d7e4-fbeb-46e5-fb77-eeea0487415a"
      },
      "outputs": [],
      "source": [
        "# Training the algorithms and results\n",
        "for clf in classifiers:\n",
        "    name = clf.__class__.__name__\n",
        "    clf_name.append(name)\n",
        "    \n",
        "    #fitting and predictions\n",
        "    model = clf.fit(x_train, y_train)\n",
        "    y_pred = model.predict(x_test)\n",
        "    model_results[name] = y_pred\n",
        "    \n",
        "    #accuracy and log loss\n",
        "    cv_results.append(cross_val_score(clf, x_train, y_train, scoring = \"accuracy\",cv = kfold))\n",
        "    acc = round(accuracy_score(y_test, y_pred), 2) #need to maximize\n",
        "    train_pred = clf.predict_proba(x_test)\n",
        "    print(f'Accuracy: {acc} \\t ---> {name} ')\n",
        "    \n",
        "    #confusion matrix, clasification report, roc curve\n",
        "    cnfm.append(confusion_matrix(y_test, y_pred))\n",
        "    clr.append(classification_report(y_test, y_pred))\n",
        "    fpr, tpr, thresholds = roc_curve(y_pred, y_test)\n",
        "    roc_auc.append(auc(fpr, tpr))\n",
        "    roc_tpr.append(tpr)\n",
        "    roc_fpr.append(fpr)\n",
        "    \n",
        "\n",
        "for i in cv_results:\n",
        "    cv_acc.append(i.mean())\n",
        "    cv_std.append(i.std())\n"
      ]
    },
    {
      "cell_type": "code",
      "execution_count": null,
      "id": "D19-w61KCEiF",
      "metadata": {
        "colab": {
          "base_uri": "https://localhost:8080/",
          "height": 449
        },
        "id": "D19-w61KCEiF",
        "outputId": "60e56699-db57-4011-a77a-7c0adff23274"
      },
      "outputs": [],
      "source": [
        "# Cross validation accuracy results graph\n",
        "cv_res = pd.DataFrame({\"CrossValMeans\":cv_acc, \"CrossValerrors\": cv_std,\"Algorithm\":clf_name})\n",
        "\n",
        "plt.figure(figsize=(12,6))\n",
        "sns.barplot(\"CrossValMeans\",\"Algorithm\",data = cv_res, palette=\"Set2\",orient = \"h\",**{'xerr':cv_std})\n",
        "plt.xlabel(\"Mean Accuracy\")\n",
        "plt.title(\"Cross validation scores\")\n"
      ]
    },
    {
      "cell_type": "code",
      "execution_count": null,
      "id": "8BIC-yx5CEiF",
      "metadata": {
        "colab": {
          "base_uri": "https://localhost:8080/",
          "height": 532
        },
        "id": "8BIC-yx5CEiF",
        "outputId": "148313b4-abbc-48fe-b377-cb2759ac9abd"
      },
      "outputs": [],
      "source": [
        "# Confusion matrixes (not-normalized confusion matrix)\n",
        "plt.figure(figsize=(12,8))\n",
        "sns.set(font_scale=1.4)\n",
        "for i in range(len(classifiers)):\n",
        "    plt.subplot(2,2,i+1) #adjust this acourding to the number of algorithms\n",
        "    sns.heatmap(cnfm[i], annot=True, fmt=\"d\",cmap=\"Blues\")\n",
        "    plt.xlabel('Predicted')\n",
        "    plt.ylabel('Actual')\n",
        "    plt.title(clf_name[i])"
      ]
    },
    {
      "cell_type": "code",
      "execution_count": null,
      "id": "_JMzbQlLCEiG",
      "metadata": {
        "colab": {
          "base_uri": "https://localhost:8080/"
        },
        "id": "_JMzbQlLCEiG",
        "outputId": "b3816d75-37d2-4ea0-a5a8-f1a636e460c5"
      },
      "outputs": [],
      "source": [
        "#Classification reports\n",
        "for i in range(len(classifiers)):\n",
        "    print (f\"{clf_name[i]} Classification Report:\" );\n",
        "    print (clr[i]);"
      ]
    },
    {
      "attachments": {},
      "cell_type": "markdown",
      "id": "0dH9DwiJVY_u",
      "metadata": {
        "id": "0dH9DwiJVY_u"
      },
      "source": [
        "### Circuits classification"
      ]
    },
    {
      "cell_type": "code",
      "execution_count": null,
      "id": "XXDbFyfxVS-a",
      "metadata": {
        "colab": {
          "base_uri": "https://localhost:8080/"
        },
        "id": "XXDbFyfxVS-a",
        "outputId": "1b7ab758-9d2e-4576-b18a-02dbdff19e9d"
      },
      "outputs": [],
      "source": [
        "driversNum = [11,55,1,16,63,4,14,44,77,5,10,31,3,18,6,24,22,23,47,20]\n",
        "\n",
        "allLapsMontmelo = pd.DataFrame(columns=['LapNumber','Sector1Time','Sector2Time','Sector3Time','SpeedI1','SpeedI2','SpeedFL', 'Compound', 'TyreLife'])\n",
        "lapsArray = []\n",
        "session = ff1.get_session(2022, 6, 'R')\n",
        "session.load()\n",
        "for d in driversNum:\n",
        "  print(\"YEAR:\", 2022,\"DRIVER:\", d )\n",
        "  laps = session.laps.pick_driver(d).pick_accurate()\n",
        "  lapsArray.append(laps)\n",
        "  allLapsMontmelo = pd.concat(lapsArray)\n"
      ]
    },
    {
      "cell_type": "code",
      "execution_count": null,
      "id": "cXdUccrlVS-c",
      "metadata": {
        "colab": {
          "base_uri": "https://localhost:8080/",
          "height": 424
        },
        "id": "cXdUccrlVS-c",
        "outputId": "a713a089-9f24-4bf1-84f3-0bf1dacb0051"
      },
      "outputs": [],
      "source": [
        "allLapsMontmelo = allLapsMontmelo[['LapNumber','Sector1Time','Sector2Time','Sector3Time','SpeedI1','SpeedI2','SpeedFL', 'Compound', 'TyreLife']]\n",
        "allLapsMontmelo['Circuit'] = 0\n",
        "allLapsMontmelo['Compound'] = allLapsMontmelo['Compound'].replace(\"WET\", 1)\n",
        "allLapsMontmelo['Compound'] = allLapsMontmelo['Compound'].replace(\"INTERMEDIATE\", 2)\n",
        "allLapsMontmelo['Compound'] = allLapsMontmelo['Compound'].replace(\"HARD\", 3)\n",
        "allLapsMontmelo['Compound'] = allLapsMontmelo['Compound'].replace(\"MEDIUM\", 4)\n",
        "allLapsMontmelo['Compound'] = allLapsMontmelo['Compound'].replace(\"SOFT\", 5)\n",
        "allLapsMontmelo['Sector1Time'] = allLapsMontmelo['Sector1Time'].dt.total_seconds()\n",
        "allLapsMontmelo['Sector2Time'] = allLapsMontmelo['Sector2Time'].dt.total_seconds()\n",
        "allLapsMontmelo['Sector3Time'] = allLapsMontmelo['Sector3Time'].dt.total_seconds()\n",
        "allLapsMontmelo"
      ]
    },
    {
      "cell_type": "code",
      "execution_count": null,
      "id": "afKXmUdcVS-e",
      "metadata": {
        "colab": {
          "base_uri": "https://localhost:8080/",
          "height": 424
        },
        "id": "afKXmUdcVS-e",
        "outputId": "b0ab1f40-6d89-48d5-a3ba-8bd1607a68a7"
      },
      "outputs": [],
      "source": [
        "montmeloTesting = allLapsMontmelo.sample(frac = 0.3)\n",
        "montmeloTraining = allLapsMontmelo.drop(montmeloTesting.index)\n",
        "montmeloTraining"
      ]
    },
    {
      "cell_type": "code",
      "execution_count": null,
      "id": "TB896wE9gKSY",
      "metadata": {
        "id": "TB896wE9gKSY"
      },
      "outputs": [],
      "source": [
        "driversNum = [11,55,1,16,63,4,14,44,77,5,10,31,3,18,6,24,22,23,47,20]\n",
        "\n",
        "allLapsSpa = pd.DataFrame(columns=['LapNumber','Sector1Time','Sector2Time','Sector3Time','SpeedI1','SpeedI2','SpeedFL', 'Compound', 'TyreLife'])\n",
        "lapsArray = []\n",
        "session = ff1.get_session(2022, 14, 'R')\n",
        "session.load()\n",
        "for d in driversNum:\n",
        "  print(\"YEAR:\", 2022,\"DRIVER:\", d )\n",
        "  laps = session.laps.pick_driver(d).pick_accurate()\n",
        "  lapsArray.append(laps)\n",
        "  allLapsSpa = pd.concat(lapsArray)\n"
      ]
    },
    {
      "cell_type": "code",
      "execution_count": null,
      "id": "1VNm8BSuvbLI",
      "metadata": {
        "id": "1VNm8BSuvbLI"
      },
      "outputs": [],
      "source": [
        "allLapsSpa = allLapsSpa[['LapNumber','Sector1Time','Sector2Time','Sector3Time','SpeedI1','SpeedI2','SpeedFL', 'Compound', 'TyreLife']]\n",
        "allLapsSpa['Circuit'] = 1\n",
        "allLapsSpa['Compound'] = allLapsSpa['Compound'].replace(\"WET\", 1)\n",
        "allLapsSpa['Compound'] = allLapsSpa['Compound'].replace(\"INTERMEDIATE\", 2)\n",
        "allLapsSpa['Compound'] = allLapsSpa['Compound'].replace(\"HARD\", 3)\n",
        "allLapsSpa['Compound'] = allLapsSpa['Compound'].replace(\"MEDIUM\", 4)\n",
        "allLapsSpa['Compound'] = allLapsSpa['Compound'].replace(\"SOFT\", 5)\n",
        "allLapsSpa['Sector1Time'] = allLapsSpa['Sector1Time'].dt.total_seconds()\n",
        "allLapsSpa['Sector2Time'] = allLapsSpa['Sector2Time'].dt.total_seconds()\n",
        "allLapsSpa['Sector3Time'] = allLapsSpa['Sector3Time'].dt.total_seconds()\n",
        "allLapsSpa"
      ]
    },
    {
      "cell_type": "code",
      "execution_count": null,
      "id": "3_lNm90Voq2O",
      "metadata": {
        "id": "3_lNm90Voq2O"
      },
      "outputs": [],
      "source": [
        "spaTesting = allLapsSpa.sample(frac = 0.3)\n",
        "spaTraining = allLapsSpa.drop(spaTesting.index)\n",
        "spaTraining"
      ]
    },
    {
      "cell_type": "code",
      "execution_count": null,
      "id": "QGxhgBRGpF0x",
      "metadata": {
        "id": "QGxhgBRGpF0x"
      },
      "outputs": [],
      "source": [
        "frames = [montmeloTraining, spaTraining]\n",
        "\n",
        "training = pd.concat(frames)\n",
        "training = training.dropna()\n",
        "training"
      ]
    },
    {
      "cell_type": "code",
      "execution_count": null,
      "id": "XbKR7MMyr2jc",
      "metadata": {
        "id": "XbKR7MMyr2jc"
      },
      "outputs": [],
      "source": [
        "training = training[['LapNumber','SpeedI1','SpeedI2', 'Compound', 'TyreLife', 'Circuit']]\n"
      ]
    },
    {
      "cell_type": "code",
      "execution_count": null,
      "id": "QSyJ6nBE0pMH",
      "metadata": {
        "colab": {
          "base_uri": "https://localhost:8080/",
          "height": 424
        },
        "id": "QSyJ6nBE0pMH",
        "outputId": "023cf566-afca-452a-b3c6-5e7d4d359095"
      },
      "outputs": [],
      "source": [
        "d = pd.DataFrame()\n",
        "d = training\n",
        "d"
      ]
    },
    {
      "cell_type": "code",
      "execution_count": null,
      "id": "sQVvH3r2snTP",
      "metadata": {
        "id": "sQVvH3r2snTP"
      },
      "outputs": [],
      "source": [
        "# Main libraries\n",
        "import pandas as pd\n",
        "import numpy as np\n",
        "import matplotlib.pyplot as plt\n",
        "import seaborn as sns\n",
        "\n",
        "#Processing libraries\n",
        "from sklearn.preprocessing import StandardScaler,MinMaxScaler\n",
        "\n",
        "# Model libraries\n",
        "from sklearn.linear_model import LogisticRegression\n",
        "from sklearn.neighbors import KNeighborsClassifier\n",
        "from sklearn.svm import SVC, LinearSVC, NuSVC\n",
        "from sklearn.tree import DecisionTreeClassifier\n",
        "from sklearn.ensemble import RandomForestClassifier, AdaBoostClassifier, GradientBoostingClassifier, ExtraTreesClassifier, VotingClassifier\n",
        "from sklearn.neural_network import MLPClassifier\n",
        "from sklearn.discriminant_analysis import LinearDiscriminantAnalysis, QuadraticDiscriminantAnalysis\n",
        "from sklearn.naive_bayes import GaussianNB\n",
        "\n",
        "# Testing libraries\n",
        "from sklearn.model_selection import train_test_split, cross_val_score, StratifiedKFold, GridSearchCV, learning_curve\n",
        "from sklearn.metrics import accuracy_score, log_loss, confusion_matrix, classification_report, roc_curve, auc\n",
        "\n",
        "# Ignore warnings\n",
        "import warnings\n",
        "warnings.filterwarnings('ignore')\n",
        "sns.set(font_scale=1.8)"
      ]
    },
    {
      "cell_type": "code",
      "execution_count": null,
      "id": "HP_KpYjfscmp",
      "metadata": {
        "id": "HP_KpYjfscmp"
      },
      "outputs": [],
      "source": [
        "scaler = MinMaxScaler()\n",
        "scaled_d = scaler.fit_transform(d[['LapNumber','SpeedI1','SpeedI2', 'Compound', 'TyreLife']])\n",
        "d[['LapNumber','SpeedI1','SpeedI2', 'Compound', 'TyreLife']] = scaled_d\n"
      ]
    },
    {
      "cell_type": "code",
      "execution_count": null,
      "id": "5Icik-ie0Zw6",
      "metadata": {
        "colab": {
          "base_uri": "https://localhost:8080/"
        },
        "id": "5Icik-ie0Zw6",
        "outputId": "0e36dc15-fd30-4eae-b68d-c7124fa703d9"
      },
      "outputs": [],
      "source": [
        "# Class balance\n",
        "ld = d[d.Circuit == 1] #SPA\n",
        "no_ld = d[d.Circuit == 0] #MONTMELO\n",
        "print(\"SURVIVED: \", len(ld), \" NOT SURVIVED: \", len(no_ld))"
      ]
    },
    {
      "cell_type": "code",
      "execution_count": null,
      "id": "Su3XK_uB1Clp",
      "metadata": {
        "colab": {
          "base_uri": "https://localhost:8080/"
        },
        "id": "Su3XK_uB1Clp",
        "outputId": "cbec6136-889d-4dc7-f702-3181634181a7"
      },
      "outputs": [],
      "source": [
        "balanced_d = pd.concat([ld, no_ld.sample(len(ld))])\n",
        "x = balanced_d.iloc[:,:-1]\n",
        "y = balanced_d.iloc[:,-1:]\n",
        "balanced_d.shape"
      ]
    },
    {
      "cell_type": "code",
      "execution_count": null,
      "id": "grt20TlI1YnP",
      "metadata": {
        "colab": {
          "base_uri": "https://localhost:8080/",
          "height": 839
        },
        "id": "grt20TlI1YnP",
        "outputId": "ba8afd5c-50e5-4e28-a441-54912298f218"
      },
      "outputs": [],
      "source": [
        "plt.figure(figsize=(30,15))\n",
        "ax = sns.heatmap(d[d.columns].corr(),cmap=\"Blues\",annot=True,annot_kws={\"size\": 18})"
      ]
    },
    {
      "cell_type": "code",
      "execution_count": null,
      "id": "IdOzXPlG0Lux",
      "metadata": {
        "colab": {
          "base_uri": "https://localhost:8080/"
        },
        "id": "IdOzXPlG0Lux",
        "outputId": "48a2489a-3ad8-4c86-865e-f4a9bcf1eae7"
      },
      "outputs": [],
      "source": [
        "# Random state\n",
        "rs = 42\n",
        "\n",
        "# Split the data to check which algorithms learn better (later on we can check )\n",
        "x_train, x_test, y_train, y_test = train_test_split(x, y, test_size=0.2, random_state=rs)\n",
        "\n",
        "# look at the shape of the data (many problems can arise from wrong shape)\n",
        "print(x_train.shape)\n",
        "print(x_test.shape)\n",
        "print(y_train.shape)\n",
        "print(y_test.shape)"
      ]
    },
    {
      "cell_type": "code",
      "execution_count": null,
      "id": "0fHih3dC0QM-",
      "metadata": {
        "id": "0fHih3dC0QM-"
      },
      "outputs": [],
      "source": [
        "\n",
        "# List of classifiers:\n",
        "classifiers = [\n",
        "    LogisticRegression(random_state = rs),\n",
        "    DecisionTreeClassifier(random_state=rs),\n",
        "    SVC(probability=True),\n",
        "    RandomForestClassifier(n_estimators = 10, random_state=rs),\n",
        "]\n",
        "\n",
        "# List of results that will occure:\n",
        "clf_name = [] # names of the classifiers\n",
        "model_results = pd.DataFrame.copy(y_test) #resulting of prediction from the models\n",
        "\n",
        "kfold = StratifiedKFold(n_splits=5) #cross-validation\n",
        "cv_results = [] # scores from cross validation\n",
        "cv_acc = [] # mean accuracy from cross validation, need to maximize\n",
        "cv_std = [] # standard deviation from cross validation, need to minimise\n",
        "\n",
        "cnfm = [] #confusion matrix\n",
        "clr = [] #classification report\n",
        "roc_auc = [] #roc curve:\n",
        "roc_tpr = []\n",
        "roc_fpr = []\n"
      ]
    },
    {
      "cell_type": "code",
      "execution_count": null,
      "id": "lIKF3RDI3fM8",
      "metadata": {
        "colab": {
          "base_uri": "https://localhost:8080/"
        },
        "id": "lIKF3RDI3fM8",
        "outputId": "2a47faf0-49f8-4503-8c97-8f8c33d9a4d9"
      },
      "outputs": [],
      "source": [
        "# Training the algorithms and results\n",
        "for clf in classifiers:\n",
        "    name = clf.__class__.__name__\n",
        "    clf_name.append(name)\n",
        "    \n",
        "    #fitting and predictions\n",
        "    model = clf.fit(x_train, y_train)\n",
        "    y_pred = model.predict(x_test)\n",
        "    model_results[name] = y_pred\n",
        "    \n",
        "    #accuracy and log loss\n",
        "    cv_results.append(cross_val_score(clf, x_train, y_train, scoring = \"accuracy\",cv = kfold))\n",
        "    acc = round(accuracy_score(y_test, y_pred), 2) #need to maximize\n",
        "    train_pred = clf.predict_proba(x_test)\n",
        "    print(f'Accuracy: {acc} \\t ---> {name} ')\n",
        "    \n",
        "    #confusion matrix, clasification report, roc curve\n",
        "    cnfm.append(confusion_matrix(y_test, y_pred))\n",
        "    clr.append(classification_report(y_test, y_pred))\n",
        "    fpr, tpr, thresholds = roc_curve(y_pred, y_test)\n",
        "    roc_auc.append(auc(fpr, tpr))\n",
        "    roc_tpr.append(tpr)\n",
        "    roc_fpr.append(fpr)\n",
        "    \n",
        "\n",
        "for i in cv_results:\n",
        "    cv_acc.append(i.mean())\n",
        "    cv_std.append(i.std())\n"
      ]
    },
    {
      "cell_type": "code",
      "execution_count": null,
      "id": "Ct0-QNG13pfG",
      "metadata": {
        "colab": {
          "base_uri": "https://localhost:8080/",
          "height": 449
        },
        "id": "Ct0-QNG13pfG",
        "outputId": "57cc2b1b-d6a9-4b97-d5a8-84cdcd392b32"
      },
      "outputs": [],
      "source": [
        "# Cross validation accuracy results graph\n",
        "cv_res = pd.DataFrame({\"CrossValMeans\":cv_acc, \"CrossValerrors\": cv_std,\"Algorithm\":clf_name})\n",
        "\n",
        "plt.figure(figsize=(12,6))\n",
        "sns.barplot(\"CrossValMeans\",\"Algorithm\",data = cv_res, palette=\"Set2\",orient = \"h\",**{'xerr':cv_std})\n",
        "plt.xlabel(\"Mean Accuracy\")\n",
        "plt.title(\"Cross validation scores\")\n"
      ]
    },
    {
      "cell_type": "code",
      "execution_count": null,
      "id": "wYJoJlmt3uSu",
      "metadata": {
        "colab": {
          "base_uri": "https://localhost:8080/",
          "height": 532
        },
        "id": "wYJoJlmt3uSu",
        "outputId": "13c0569c-9921-4cfb-cb29-8fd7887e1448"
      },
      "outputs": [],
      "source": [
        "# Confusion matrixes (not-normalized confusion matrix)\n",
        "plt.figure(figsize=(12,8))\n",
        "sns.set(font_scale=1.4)\n",
        "for i in range(len(classifiers)):\n",
        "    plt.subplot(2,2,i+1) #adjust this acourding to the number of algorithms\n",
        "    sns.heatmap(cnfm[i], annot=True, fmt=\"d\",cmap=\"Blues\")\n",
        "    plt.xlabel('Predicted')\n",
        "    plt.ylabel('Actual')\n",
        "    plt.title(clf_name[i])"
      ]
    },
    {
      "cell_type": "code",
      "execution_count": null,
      "id": "YQ1lNFGf3wi2",
      "metadata": {
        "colab": {
          "base_uri": "https://localhost:8080/"
        },
        "id": "YQ1lNFGf3wi2",
        "outputId": "620b931d-0c8f-4076-93a1-13cdb77595c3"
      },
      "outputs": [],
      "source": [
        "#Classification reports\n",
        "for i in range(len(classifiers)):\n",
        "    print (f\"{clf_name[i]} Classification Report:\" );\n",
        "    print (clr[i]);"
      ]
    },
    {
      "cell_type": "markdown",
      "id": "QJVoJA3SiJmF",
      "metadata": {
        "id": "QJVoJA3SiJmF"
      },
      "source": [
        "## Time Series\n",
        "\n"
      ]
    },
    {
      "cell_type": "markdown",
      "id": "47pB3Qv-lzFk",
      "metadata": {
        "id": "47pB3Qv-lzFk"
      },
      "source": [
        "### Ferrari constructor points"
      ]
    },
    {
      "cell_type": "code",
      "execution_count": 1,
      "id": "8f6d5302",
      "metadata": {},
      "outputs": [],
      "source": [
        "import pandas as pd\n",
        "import numpy as np\n",
        "import matplotlib.pyplot as plt\n",
        "import datetime\n",
        "import statsmodels.api as sm  \n",
        "from statsmodels.tsa.stattools import acf, pacf\n",
        "from statsmodels.tsa.stattools import adfuller\n",
        "from statsmodels.tsa.arima.model import ARIMA"
      ]
    },
    {
      "cell_type": "code",
      "execution_count": 2,
      "id": "d9c7a182",
      "metadata": {},
      "outputs": [],
      "source": [
        "from statsmodels.graphics.tsaplots import plot_acf, plot_pacf"
      ]
    },
    {
      "cell_type": "code",
      "execution_count": 3,
      "id": "EDD2DJnZpeIn",
      "metadata": {
        "colab": {
          "base_uri": "https://localhost:8080/",
          "height": 455
        },
        "id": "EDD2DJnZpeIn",
        "outputId": "4b7b1528-cc07-4ee5-e813-73681b0dda7c"
      },
      "outputs": [
        {
          "data": {
            "text/html": [
              "<div>\n",
              "<style scoped>\n",
              "    .dataframe tbody tr th:only-of-type {\n",
              "        vertical-align: middle;\n",
              "    }\n",
              "\n",
              "    .dataframe tbody tr th {\n",
              "        vertical-align: top;\n",
              "    }\n",
              "\n",
              "    .dataframe thead th {\n",
              "        text-align: right;\n",
              "    }\n",
              "</style>\n",
              "<table border=\"1\" class=\"dataframe\">\n",
              "  <thead>\n",
              "    <tr style=\"text-align: right;\">\n",
              "      <th></th>\n",
              "      <th>points</th>\n",
              "    </tr>\n",
              "    <tr>\n",
              "      <th>year</th>\n",
              "      <th></th>\n",
              "    </tr>\n",
              "  </thead>\n",
              "  <tbody>\n",
              "    <tr>\n",
              "      <th>1958</th>\n",
              "      <td>40.0</td>\n",
              "    </tr>\n",
              "    <tr>\n",
              "      <th>1959</th>\n",
              "      <td>32.0</td>\n",
              "    </tr>\n",
              "    <tr>\n",
              "      <th>1960</th>\n",
              "      <td>26.0</td>\n",
              "    </tr>\n",
              "    <tr>\n",
              "      <th>1961</th>\n",
              "      <td>45.0</td>\n",
              "    </tr>\n",
              "    <tr>\n",
              "      <th>1962</th>\n",
              "      <td>18.0</td>\n",
              "    </tr>\n",
              "    <tr>\n",
              "      <th>...</th>\n",
              "      <td>...</td>\n",
              "    </tr>\n",
              "    <tr>\n",
              "      <th>2017</th>\n",
              "      <td>522.0</td>\n",
              "    </tr>\n",
              "    <tr>\n",
              "      <th>2018</th>\n",
              "      <td>571.0</td>\n",
              "    </tr>\n",
              "    <tr>\n",
              "      <th>2019</th>\n",
              "      <td>504.0</td>\n",
              "    </tr>\n",
              "    <tr>\n",
              "      <th>2020</th>\n",
              "      <td>131.0</td>\n",
              "    </tr>\n",
              "    <tr>\n",
              "      <th>2021</th>\n",
              "      <td>323.5</td>\n",
              "    </tr>\n",
              "  </tbody>\n",
              "</table>\n",
              "<p>64 rows × 1 columns</p>\n",
              "</div>"
            ],
            "text/plain": [
              "      points\n",
              "year        \n",
              "1958    40.0\n",
              "1959    32.0\n",
              "1960    26.0\n",
              "1961    45.0\n",
              "1962    18.0\n",
              "...      ...\n",
              "2017   522.0\n",
              "2018   571.0\n",
              "2019   504.0\n",
              "2020   131.0\n",
              "2021   323.5\n",
              "\n",
              "[64 rows x 1 columns]"
            ]
          },
          "execution_count": 3,
          "metadata": {},
          "output_type": "execute_result"
        }
      ],
      "source": [
        "constructor_standings = pd.read_csv('data/constructor_standings.csv')\n",
        "constructor_standings = constructor_standings.loc[(constructor_standings['constructorId']==6)]\n",
        "\n",
        "races = pd.read_csv('data/races.csv')\n",
        "races = races[['raceId', 'year','round', 'date']]\n",
        "\n",
        "constructorPoints = pd.merge(constructor_standings, races, on=['raceId'])\n",
        "constructorPoints = constructorPoints.groupby(['year']).max()\n",
        "constructorPoints = constructorPoints[['points']]\n",
        "constructorPoints = constructorPoints.drop(2022)\n",
        "constructorPoints"
      ]
    },
    {
      "cell_type": "code",
      "execution_count": 4,
      "id": "imzVb0596KdU",
      "metadata": {
        "colab": {
          "base_uri": "https://localhost:8080/",
          "height": 423
        },
        "id": "imzVb0596KdU",
        "outputId": "77e18f87-57af-45c8-d268-b508fb82ba27"
      },
      "outputs": [
        {
          "data": {
            "text/html": [
              "<div>\n",
              "<style scoped>\n",
              "    .dataframe tbody tr th:only-of-type {\n",
              "        vertical-align: middle;\n",
              "    }\n",
              "\n",
              "    .dataframe tbody tr th {\n",
              "        vertical-align: top;\n",
              "    }\n",
              "\n",
              "    .dataframe thead th {\n",
              "        text-align: right;\n",
              "    }\n",
              "</style>\n",
              "<table border=\"1\" class=\"dataframe\">\n",
              "  <thead>\n",
              "    <tr style=\"text-align: right;\">\n",
              "      <th></th>\n",
              "      <th>points</th>\n",
              "    </tr>\n",
              "  </thead>\n",
              "  <tbody>\n",
              "    <tr>\n",
              "      <th>1958</th>\n",
              "      <td>40.0</td>\n",
              "    </tr>\n",
              "    <tr>\n",
              "      <th>1959</th>\n",
              "      <td>32.0</td>\n",
              "    </tr>\n",
              "    <tr>\n",
              "      <th>1960</th>\n",
              "      <td>26.0</td>\n",
              "    </tr>\n",
              "    <tr>\n",
              "      <th>1961</th>\n",
              "      <td>45.0</td>\n",
              "    </tr>\n",
              "    <tr>\n",
              "      <th>1962</th>\n",
              "      <td>18.0</td>\n",
              "    </tr>\n",
              "    <tr>\n",
              "      <th>...</th>\n",
              "      <td>...</td>\n",
              "    </tr>\n",
              "    <tr>\n",
              "      <th>2017</th>\n",
              "      <td>522.0</td>\n",
              "    </tr>\n",
              "    <tr>\n",
              "      <th>2018</th>\n",
              "      <td>571.0</td>\n",
              "    </tr>\n",
              "    <tr>\n",
              "      <th>2019</th>\n",
              "      <td>504.0</td>\n",
              "    </tr>\n",
              "    <tr>\n",
              "      <th>2020</th>\n",
              "      <td>131.0</td>\n",
              "    </tr>\n",
              "    <tr>\n",
              "      <th>2021</th>\n",
              "      <td>323.5</td>\n",
              "    </tr>\n",
              "  </tbody>\n",
              "</table>\n",
              "<p>64 rows × 1 columns</p>\n",
              "</div>"
            ],
            "text/plain": [
              "      points\n",
              "1958    40.0\n",
              "1959    32.0\n",
              "1960    26.0\n",
              "1961    45.0\n",
              "1962    18.0\n",
              "...      ...\n",
              "2017   522.0\n",
              "2018   571.0\n",
              "2019   504.0\n",
              "2020   131.0\n",
              "2021   323.5\n",
              "\n",
              "[64 rows x 1 columns]"
            ]
          },
          "execution_count": 4,
          "metadata": {},
          "output_type": "execute_result"
        }
      ],
      "source": [
        "constructorPoints.index = pd.period_range('1958', '2021', freq='Y')\n",
        "constructorPoints\n"
      ]
    },
    {
      "cell_type": "code",
      "execution_count": 5,
      "id": "rT3lQgen6KdU",
      "metadata": {
        "colab": {
          "base_uri": "https://localhost:8080/",
          "height": 337
        },
        "id": "rT3lQgen6KdU",
        "outputId": "6d3c2f80-8847-4b37-9375-f2a6b1e3e691"
      },
      "outputs": [
        {
          "data": {
            "text/plain": [
              "<AxesSubplot: >"
            ]
          },
          "execution_count": 5,
          "metadata": {},
          "output_type": "execute_result"
        },
        {
          "data": {
            "image/png": "[encoded data removed]",
            "text/plain": [
              "<Figure size 1500x500 with 1 Axes>"
            ]
          },
          "metadata": {},
          "output_type": "display_data"
        }
      ],
      "source": [
        "endog = constructorPoints['points']\n",
        "endog.plot(figsize=(15, 5))\n"
      ]
    },
    {
      "cell_type": "code",
      "execution_count": 6,
      "id": "5ZNzFx7l6KdV",
      "metadata": {
        "colab": {
          "base_uri": "https://localhost:8080/"
        },
        "id": "5ZNzFx7l6KdV",
        "outputId": "d937dfc9-9b86-4369-d897-fa694539d8b6"
      },
      "outputs": [
        {
          "name": "stdout",
          "output_type": "stream",
          "text": [
            "                               SARIMAX Results                                \n",
            "==============================================================================\n",
            "Dep. Variable:                 points   No. Observations:                   64\n",
            "Model:               SARIMAX(1, 0, 0)   Log Likelihood                -374.226\n",
            "Date:                Wed, 08 Feb 2023   AIC                            754.452\n",
            "Time:                        09:46:20   BIC                            760.929\n",
            "Sample:                    12-31-1958   HQIC                           757.004\n",
            "                         - 12-31-2021                                         \n",
            "Covariance Type:                  opg                                         \n",
            "==============================================================================\n",
            "                 coef    std err          z      P>|z|      [0.025      0.975]\n",
            "------------------------------------------------------------------------------\n",
            "intercept     26.8864     26.374      1.019      0.308     -24.805      78.578\n",
            "ar.L1          0.8092      0.089      9.116      0.000       0.635       0.983\n",
            "sigma2      6905.5695   1012.449      6.821      0.000    4921.207    8889.932\n",
            "===================================================================================\n",
            "Ljung-Box (L1) (Q):                   3.76   Jarque-Bera (JB):                66.31\n",
            "Prob(Q):                              0.05   Prob(JB):                         0.00\n",
            "Heteroskedasticity (H):              20.67   Skew:                             0.57\n",
            "Prob(H) (two-sided):                  0.00   Kurtosis:                         7.85\n",
            "===================================================================================\n",
            "\n",
            "Warnings:\n",
            "[1] Covariance matrix calculated using the outer product of gradients (complex-step).\n"
          ]
        }
      ],
      "source": [
        "import statsmodels.api as sm\n",
        "\n",
        "# Construct the model\n",
        "mod = sm.tsa.SARIMAX(endog, order=(1, 0, 0), trend='c')\n",
        "# Estimate the parameters\n",
        "res = mod.fit()\n",
        "\n",
        "print(res.summary())"
      ]
    },
    {
      "cell_type": "code",
      "execution_count": 7,
      "id": "bnG9uETJ6KdV",
      "metadata": {
        "colab": {
          "base_uri": "https://localhost:8080/"
        },
        "id": "bnG9uETJ6KdV",
        "outputId": "56a39690-7fa8-48df-d70b-4525c2a02cfe"
      },
      "outputs": [
        {
          "name": "stdout",
          "output_type": "stream",
          "text": [
            "points        mean    mean_se  mean_ci_lower  mean_ci_upper\n",
            "2022    288.649043  83.099756     151.962107     425.335978\n"
          ]
        }
      ],
      "source": [
        "fcast_res1 = res.get_forecast()\n",
        "\n",
        "# Most results are collected in the `summary_frame` attribute.\n",
        "# Here we specify that we want a confidence level of 90%\n",
        "print(fcast_res1.summary_frame(alpha=0.10))"
      ]
    },
    {
      "cell_type": "code",
      "execution_count": 8,
      "id": "NgRZ_udM6KdW",
      "metadata": {
        "colab": {
          "base_uri": "https://localhost:8080/"
        },
        "id": "NgRZ_udM6KdW",
        "outputId": "bcdbf72b-6220-4375-c7c3-a50cc8b13a0e"
      },
      "outputs": [
        {
          "name": "stdout",
          "output_type": "stream",
          "text": [
            "2022    288.649043\n",
            "2023    260.449114\n",
            "Freq: A-DEC, Name: predicted_mean, dtype: float64\n"
          ]
        }
      ],
      "source": [
        "print(res.forecast('2023'))\n"
      ]
    },
    {
      "cell_type": "code",
      "execution_count": 9,
      "id": "lfGmmuMj6KdW",
      "metadata": {
        "colab": {
          "base_uri": "https://localhost:8080/",
          "height": 322
        },
        "id": "lfGmmuMj6KdW",
        "outputId": "81917485-2629-4dee-b4e4-d236b7454b91"
      },
      "outputs": [
        {
          "data": {
            "image/png": "[encoded data removed]",
            "text/plain": [
              "<Figure size 1500x500 with 1 Axes>"
            ]
          },
          "metadata": {},
          "output_type": "display_data"
        }
      ],
      "source": [
        "fig, ax = plt.subplots(figsize=(15, 5))\n",
        "\n",
        "# Plot the data (here we are subsetting it to get a better look at the forecasts)\n",
        "endog.loc['1958':].plot(ax=ax)\n",
        "\n",
        "# Construct the forecasts\n",
        "fcast = res.get_forecast('2030').summary_frame()\n",
        "fcast['mean'].plot(ax=ax, style='k--')\n",
        "ax.fill_between(fcast.index, fcast['mean_ci_lower'], fcast['mean_ci_upper'], color='k', alpha=0.1);"
      ]
    },
    {
      "cell_type": "code",
      "execution_count": 10,
      "id": "riQs6o9tHIaX",
      "metadata": {
        "id": "riQs6o9tHIaX"
      },
      "outputs": [],
      "source": [
        "def test_stationarity(ts):\n",
        "    stats = ['Test Statistic','p-value','Lags','Observations']\n",
        "    df_test = adfuller(ts, autolag='AIC')\n",
        "    df_results = pd.Series(df_test[0:4], index=stats)\n",
        "    for key,value in df_test[4].items():\n",
        "        df_results['Critical Value (%s)'%key] = value\n",
        "    print(df_results)"
      ]
    },
    {
      "cell_type": "code",
      "execution_count": 11,
      "id": "8NpuTA5CHM1-",
      "metadata": {
        "colab": {
          "base_uri": "https://localhost:8080/"
        },
        "id": "8NpuTA5CHM1-",
        "outputId": "89d29fcc-fa41-4c6b-ed08-1c4b98c23322"
      },
      "outputs": [
        {
          "name": "stdout",
          "output_type": "stream",
          "text": [
            "Test Statistic           1.684529\n",
            "p-value                  0.998090\n",
            "Lags                    10.000000\n",
            "Observations            53.000000\n",
            "Critical Value (1%)     -3.560242\n",
            "Critical Value (5%)     -2.917850\n",
            "Critical Value (10%)    -2.596796\n",
            "dtype: float64\n"
          ]
        }
      ],
      "source": [
        "test_stationarity(endog)"
      ]
    },
    {
      "cell_type": "code",
      "execution_count": 13,
      "id": "M4RgsyQ8KDFJ",
      "metadata": {
        "id": "M4RgsyQ8KDFJ"
      },
      "outputs": [],
      "source": [
        "points = pd.DataFrame()\n",
        "points['points'] = constructorPoints['points']\n"
      ]
    },
    {
      "cell_type": "code",
      "execution_count": 15,
      "id": "pKsF9A7wLhoV",
      "metadata": {
        "colab": {
          "base_uri": "https://localhost:8080/",
          "height": 424
        },
        "id": "pKsF9A7wLhoV",
        "outputId": "23960b33-3e35-441c-e9c1-17aea359f316"
      },
      "outputs": [
        {
          "data": {
            "text/html": [
              "<div>\n",
              "<style scoped>\n",
              "    .dataframe tbody tr th:only-of-type {\n",
              "        vertical-align: middle;\n",
              "    }\n",
              "\n",
              "    .dataframe tbody tr th {\n",
              "        vertical-align: top;\n",
              "    }\n",
              "\n",
              "    .dataframe thead th {\n",
              "        text-align: right;\n",
              "    }\n",
              "</style>\n",
              "<table border=\"1\" class=\"dataframe\">\n",
              "  <thead>\n",
              "    <tr style=\"text-align: right;\">\n",
              "      <th></th>\n",
              "      <th>points</th>\n",
              "      <th>diff</th>\n",
              "    </tr>\n",
              "  </thead>\n",
              "  <tbody>\n",
              "    <tr>\n",
              "      <th>1958</th>\n",
              "      <td>40.0</td>\n",
              "      <td>NaN</td>\n",
              "    </tr>\n",
              "    <tr>\n",
              "      <th>1959</th>\n",
              "      <td>32.0</td>\n",
              "      <td>-8.0</td>\n",
              "    </tr>\n",
              "    <tr>\n",
              "      <th>1960</th>\n",
              "      <td>26.0</td>\n",
              "      <td>-6.0</td>\n",
              "    </tr>\n",
              "    <tr>\n",
              "      <th>1961</th>\n",
              "      <td>45.0</td>\n",
              "      <td>19.0</td>\n",
              "    </tr>\n",
              "    <tr>\n",
              "      <th>1962</th>\n",
              "      <td>18.0</td>\n",
              "      <td>-27.0</td>\n",
              "    </tr>\n",
              "    <tr>\n",
              "      <th>...</th>\n",
              "      <td>...</td>\n",
              "      <td>...</td>\n",
              "    </tr>\n",
              "    <tr>\n",
              "      <th>2017</th>\n",
              "      <td>522.0</td>\n",
              "      <td>124.0</td>\n",
              "    </tr>\n",
              "    <tr>\n",
              "      <th>2018</th>\n",
              "      <td>571.0</td>\n",
              "      <td>49.0</td>\n",
              "    </tr>\n",
              "    <tr>\n",
              "      <th>2019</th>\n",
              "      <td>504.0</td>\n",
              "      <td>-67.0</td>\n",
              "    </tr>\n",
              "    <tr>\n",
              "      <th>2020</th>\n",
              "      <td>131.0</td>\n",
              "      <td>-373.0</td>\n",
              "    </tr>\n",
              "    <tr>\n",
              "      <th>2021</th>\n",
              "      <td>323.5</td>\n",
              "      <td>192.5</td>\n",
              "    </tr>\n",
              "  </tbody>\n",
              "</table>\n",
              "<p>64 rows × 2 columns</p>\n",
              "</div>"
            ],
            "text/plain": [
              "      points   diff\n",
              "1958    40.0    NaN\n",
              "1959    32.0   -8.0\n",
              "1960    26.0   -6.0\n",
              "1961    45.0   19.0\n",
              "1962    18.0  -27.0\n",
              "...      ...    ...\n",
              "2017   522.0  124.0\n",
              "2018   571.0   49.0\n",
              "2019   504.0  -67.0\n",
              "2020   131.0 -373.0\n",
              "2021   323.5  192.5\n",
              "\n",
              "[64 rows x 2 columns]"
            ]
          },
          "execution_count": 15,
          "metadata": {},
          "output_type": "execute_result"
        }
      ],
      "source": [
        "points['diff'] = points['points'] - points['points'].shift(1)\n",
        "clear_data = points\n",
        "clear_data"
      ]
    },
    {
      "cell_type": "code",
      "execution_count": 16,
      "id": "tK_bwsaSL6Gi",
      "metadata": {
        "colab": {
          "base_uri": "https://localhost:8080/"
        },
        "id": "tK_bwsaSL6Gi",
        "outputId": "bda6250a-315c-4b90-b5a6-e54242c45e1a"
      },
      "outputs": [
        {
          "name": "stdout",
          "output_type": "stream",
          "text": [
            "Test Statistic          -3.031608\n",
            "p-value                  0.032046\n",
            "Lags                     9.000000\n",
            "Observations            53.000000\n",
            "Critical Value (1%)     -3.560242\n",
            "Critical Value (5%)     -2.917850\n",
            "Critical Value (10%)    -2.596796\n",
            "dtype: float64\n"
          ]
        }
      ],
      "source": [
        "test_stationarity(clear_data['diff'].dropna(inplace=False))\n"
      ]
    },
    {
      "cell_type": "code",
      "execution_count": 17,
      "id": "emy054z3MA-V",
      "metadata": {
        "colab": {
          "base_uri": "https://localhost:8080/",
          "height": 499
        },
        "id": "emy054z3MA-V",
        "outputId": "f27e9a6e-9818-4376-bc2c-62c87b540c22"
      },
      "outputs": [
        {
          "name": "stderr",
          "output_type": "stream",
          "text": [
            "c:\\Users\\caros\\anaconda3\\envs\\DataScience\\lib\\site-packages\\statsmodels\\graphics\\tsaplots.py:348: FutureWarning: The default method 'yw' can produce PACF values outside of the [-1,1] interval. After 0.13, the default will change tounadjusted Yule-Walker ('ywm'). You can use this method now by setting method='ywm'.\n",
            "  warnings.warn(\n"
          ]
        },
        {
          "data": {
            "image/png": "[encoded data removed]",
            "text/plain": [
              "<Figure size 1200x800 with 2 Axes>"
            ]
          },
          "metadata": {},
          "output_type": "display_data"
        }
      ],
      "source": [
        "# ACF, PACF graphs to help determine order of ARIMA model, again statsmodel has these handy functions built-in\n",
        "fig = plt.figure(figsize=(12,8))\n",
        "ax1 = fig.add_subplot(211)\n",
        "fig = sm.graphics.tsa.plot_acf(clear_data['diff'][1:], lags=30, ax=ax1)   # first value of diff is NaN\n",
        "ax2 = fig.add_subplot(212)\n",
        "fig = sm.graphics.tsa.plot_pacf(clear_data['diff'][1:], lags=30, ax=ax2)"
      ]
    },
    {
      "cell_type": "code",
      "execution_count": 18,
      "id": "DmlhBmyeTugf",
      "metadata": {
        "id": "DmlhBmyeTugf"
      },
      "outputs": [],
      "source": [
        "pd.plotting.register_matplotlib_converters()\n"
      ]
    },
    {
      "cell_type": "code",
      "execution_count": 19,
      "id": "Y78z8NV5UBiY",
      "metadata": {
        "colab": {
          "base_uri": "https://localhost:8080/",
          "height": 424
        },
        "id": "Y78z8NV5UBiY",
        "outputId": "f110dd46-d393-46d5-b5ab-f28e1fa5ebb6"
      },
      "outputs": [
        {
          "data": {
            "text/html": [
              "<div>\n",
              "<style scoped>\n",
              "    .dataframe tbody tr th:only-of-type {\n",
              "        vertical-align: middle;\n",
              "    }\n",
              "\n",
              "    .dataframe tbody tr th {\n",
              "        vertical-align: top;\n",
              "    }\n",
              "\n",
              "    .dataframe thead th {\n",
              "        text-align: right;\n",
              "    }\n",
              "</style>\n",
              "<table border=\"1\" class=\"dataframe\">\n",
              "  <thead>\n",
              "    <tr style=\"text-align: right;\">\n",
              "      <th></th>\n",
              "      <th>points</th>\n",
              "      <th>diff</th>\n",
              "    </tr>\n",
              "  </thead>\n",
              "  <tbody>\n",
              "    <tr>\n",
              "      <th>1958</th>\n",
              "      <td>40.0</td>\n",
              "      <td>NaN</td>\n",
              "    </tr>\n",
              "    <tr>\n",
              "      <th>1959</th>\n",
              "      <td>32.0</td>\n",
              "      <td>-8.0</td>\n",
              "    </tr>\n",
              "    <tr>\n",
              "      <th>1960</th>\n",
              "      <td>26.0</td>\n",
              "      <td>-6.0</td>\n",
              "    </tr>\n",
              "    <tr>\n",
              "      <th>1961</th>\n",
              "      <td>45.0</td>\n",
              "      <td>19.0</td>\n",
              "    </tr>\n",
              "    <tr>\n",
              "      <th>1962</th>\n",
              "      <td>18.0</td>\n",
              "      <td>-27.0</td>\n",
              "    </tr>\n",
              "    <tr>\n",
              "      <th>...</th>\n",
              "      <td>...</td>\n",
              "      <td>...</td>\n",
              "    </tr>\n",
              "    <tr>\n",
              "      <th>2017</th>\n",
              "      <td>522.0</td>\n",
              "      <td>124.0</td>\n",
              "    </tr>\n",
              "    <tr>\n",
              "      <th>2018</th>\n",
              "      <td>571.0</td>\n",
              "      <td>49.0</td>\n",
              "    </tr>\n",
              "    <tr>\n",
              "      <th>2019</th>\n",
              "      <td>504.0</td>\n",
              "      <td>-67.0</td>\n",
              "    </tr>\n",
              "    <tr>\n",
              "      <th>2020</th>\n",
              "      <td>131.0</td>\n",
              "      <td>-373.0</td>\n",
              "    </tr>\n",
              "    <tr>\n",
              "      <th>2021</th>\n",
              "      <td>323.5</td>\n",
              "      <td>192.5</td>\n",
              "    </tr>\n",
              "  </tbody>\n",
              "</table>\n",
              "<p>64 rows × 2 columns</p>\n",
              "</div>"
            ],
            "text/plain": [
              "      points   diff\n",
              "1958    40.0    NaN\n",
              "1959    32.0   -8.0\n",
              "1960    26.0   -6.0\n",
              "1961    45.0   19.0\n",
              "1962    18.0  -27.0\n",
              "...      ...    ...\n",
              "2017   522.0  124.0\n",
              "2018   571.0   49.0\n",
              "2019   504.0  -67.0\n",
              "2020   131.0 -373.0\n",
              "2021   323.5  192.5\n",
              "\n",
              "[64 rows x 2 columns]"
            ]
          },
          "execution_count": 19,
          "metadata": {},
          "output_type": "execute_result"
        }
      ],
      "source": [
        "clear_data"
      ]
    },
    {
      "cell_type": "code",
      "execution_count": 20,
      "id": "c5df494b",
      "metadata": {},
      "outputs": [
        {
          "data": {
            "text/html": [
              "<div>\n",
              "<style scoped>\n",
              "    .dataframe tbody tr th:only-of-type {\n",
              "        vertical-align: middle;\n",
              "    }\n",
              "\n",
              "    .dataframe tbody tr th {\n",
              "        vertical-align: top;\n",
              "    }\n",
              "\n",
              "    .dataframe thead th {\n",
              "        text-align: right;\n",
              "    }\n",
              "</style>\n",
              "<table border=\"1\" class=\"dataframe\">\n",
              "  <thead>\n",
              "    <tr style=\"text-align: right;\">\n",
              "      <th></th>\n",
              "      <th>points</th>\n",
              "      <th>diff</th>\n",
              "    </tr>\n",
              "  </thead>\n",
              "  <tbody>\n",
              "    <tr>\n",
              "      <th>1958-01-01</th>\n",
              "      <td>40.0</td>\n",
              "      <td>NaN</td>\n",
              "    </tr>\n",
              "    <tr>\n",
              "      <th>1959-01-01</th>\n",
              "      <td>32.0</td>\n",
              "      <td>-8.0</td>\n",
              "    </tr>\n",
              "    <tr>\n",
              "      <th>1960-01-01</th>\n",
              "      <td>26.0</td>\n",
              "      <td>-6.0</td>\n",
              "    </tr>\n",
              "    <tr>\n",
              "      <th>1961-01-01</th>\n",
              "      <td>45.0</td>\n",
              "      <td>19.0</td>\n",
              "    </tr>\n",
              "    <tr>\n",
              "      <th>1962-01-01</th>\n",
              "      <td>18.0</td>\n",
              "      <td>-27.0</td>\n",
              "    </tr>\n",
              "    <tr>\n",
              "      <th>...</th>\n",
              "      <td>...</td>\n",
              "      <td>...</td>\n",
              "    </tr>\n",
              "    <tr>\n",
              "      <th>2017-01-01</th>\n",
              "      <td>522.0</td>\n",
              "      <td>124.0</td>\n",
              "    </tr>\n",
              "    <tr>\n",
              "      <th>2018-01-01</th>\n",
              "      <td>571.0</td>\n",
              "      <td>49.0</td>\n",
              "    </tr>\n",
              "    <tr>\n",
              "      <th>2019-01-01</th>\n",
              "      <td>504.0</td>\n",
              "      <td>-67.0</td>\n",
              "    </tr>\n",
              "    <tr>\n",
              "      <th>2020-01-01</th>\n",
              "      <td>131.0</td>\n",
              "      <td>-373.0</td>\n",
              "    </tr>\n",
              "    <tr>\n",
              "      <th>2021-01-01</th>\n",
              "      <td>323.5</td>\n",
              "      <td>192.5</td>\n",
              "    </tr>\n",
              "  </tbody>\n",
              "</table>\n",
              "<p>64 rows × 2 columns</p>\n",
              "</div>"
            ],
            "text/plain": [
              "            points   diff\n",
              "1958-01-01    40.0    NaN\n",
              "1959-01-01    32.0   -8.0\n",
              "1960-01-01    26.0   -6.0\n",
              "1961-01-01    45.0   19.0\n",
              "1962-01-01    18.0  -27.0\n",
              "...            ...    ...\n",
              "2017-01-01   522.0  124.0\n",
              "2018-01-01   571.0   49.0\n",
              "2019-01-01   504.0  -67.0\n",
              "2020-01-01   131.0 -373.0\n",
              "2021-01-01   323.5  192.5\n",
              "\n",
              "[64 rows x 2 columns]"
            ]
          },
          "execution_count": 20,
          "metadata": {},
          "output_type": "execute_result"
        }
      ],
      "source": [
        "clear_data.index = clear_data.index.to_timestamp()\n",
        "clear_data"
      ]
    },
    {
      "cell_type": "code",
      "execution_count": 21,
      "id": "HZ7Pl10OR2BE",
      "metadata": {
        "colab": {
          "base_uri": "https://localhost:8080/",
          "height": 1000
        },
        "id": "HZ7Pl10OR2BE",
        "outputId": "4f9d642d-9374-48e5-c13a-874cd8a9c401"
      },
      "outputs": [
        {
          "name": "stdout",
          "output_type": "stream",
          "text": [
            "                               SARIMAX Results                                \n",
            "==============================================================================\n",
            "Dep. Variable:                 points   No. Observations:                   64\n",
            "Model:                 ARIMA(1, 1, 3)   Log Likelihood                -362.906\n",
            "Date:                Wed, 08 Feb 2023   AIC                            735.812\n",
            "Time:                        09:47:06   BIC                            746.528\n",
            "Sample:                    01-01-1958   HQIC                           740.027\n",
            "                         - 01-01-2021                                         \n",
            "Covariance Type:                  opg                                         \n",
            "==============================================================================\n",
            "                 coef    std err          z      P>|z|      [0.025      0.975]\n",
            "------------------------------------------------------------------------------\n",
            "ar.L1         -0.8026      0.187     -4.286      0.000      -1.170      -0.436\n",
            "ma.L1          0.3638      0.191      1.903      0.057      -0.011       0.738\n",
            "ma.L2         -0.4346      0.134     -3.235      0.001      -0.698      -0.171\n",
            "ma.L3         -0.2592      0.069     -3.731      0.000      -0.395      -0.123\n",
            "sigma2      5848.4153    685.464      8.532      0.000    4504.930    7191.900\n",
            "===================================================================================\n",
            "Ljung-Box (L1) (Q):                   0.31   Jarque-Bera (JB):               100.03\n",
            "Prob(Q):                              0.58   Prob(JB):                         0.00\n",
            "Heteroskedasticity (H):              30.57   Skew:                            -0.56\n",
            "Prob(H) (two-sided):                  0.00   Kurtosis:                         9.07\n",
            "===================================================================================\n",
            "\n",
            "Warnings:\n",
            "[1] Covariance matrix calculated using the outer product of gradients (complex-step).\n"
          ]
        },
        {
          "data": {
            "image/png": "[encoded data removed]",
            "text/plain": [
              "<Figure size 2000x800 with 1 Axes>"
            ]
          },
          "metadata": {},
          "output_type": "display_data"
        }
      ],
      "source": [
        "fig = plt.figure(figsize=(20,8))\n",
        "model = ARIMA(clear_data['points'], order=(1,1,3)) \n",
        "ax = plt.gca()\n",
        "results = model.fit() \n",
        "plt.plot(clear_data['points'])\n",
        "plt.plot(results.fittedvalues, color='red')\n",
        "ax.legend(['Car Count', 'Forecast'])\n",
        "\n",
        "print(results.summary())"
      ]
    },
    {
      "cell_type": "code",
      "execution_count": 22,
      "id": "T3LaXZhcfq8X",
      "metadata": {
        "colab": {
          "base_uri": "https://localhost:8080/",
          "height": 455
        },
        "id": "T3LaXZhcfq8X",
        "outputId": "4cedce0e-aa8c-42eb-8204-d3359d1c32c6"
      },
      "outputs": [
        {
          "data": {
            "text/html": [
              "<div>\n",
              "<style scoped>\n",
              "    .dataframe tbody tr th:only-of-type {\n",
              "        vertical-align: middle;\n",
              "    }\n",
              "\n",
              "    .dataframe tbody tr th {\n",
              "        vertical-align: top;\n",
              "    }\n",
              "\n",
              "    .dataframe thead th {\n",
              "        text-align: right;\n",
              "    }\n",
              "</style>\n",
              "<table border=\"1\" class=\"dataframe\">\n",
              "  <thead>\n",
              "    <tr style=\"text-align: right;\">\n",
              "      <th></th>\n",
              "      <th>points</th>\n",
              "      <th>diff</th>\n",
              "    </tr>\n",
              "  </thead>\n",
              "  <tbody>\n",
              "    <tr>\n",
              "      <th>1958-01-01</th>\n",
              "      <td>40.0</td>\n",
              "      <td>NaN</td>\n",
              "    </tr>\n",
              "    <tr>\n",
              "      <th>1959-01-01</th>\n",
              "      <td>32.0</td>\n",
              "      <td>-8.0</td>\n",
              "    </tr>\n",
              "    <tr>\n",
              "      <th>1960-01-01</th>\n",
              "      <td>26.0</td>\n",
              "      <td>-6.0</td>\n",
              "    </tr>\n",
              "    <tr>\n",
              "      <th>1961-01-01</th>\n",
              "      <td>45.0</td>\n",
              "      <td>19.0</td>\n",
              "    </tr>\n",
              "    <tr>\n",
              "      <th>1962-01-01</th>\n",
              "      <td>18.0</td>\n",
              "      <td>-27.0</td>\n",
              "    </tr>\n",
              "    <tr>\n",
              "      <th>...</th>\n",
              "      <td>...</td>\n",
              "      <td>...</td>\n",
              "    </tr>\n",
              "    <tr>\n",
              "      <th>2017-01-01</th>\n",
              "      <td>522.0</td>\n",
              "      <td>124.0</td>\n",
              "    </tr>\n",
              "    <tr>\n",
              "      <th>2018-01-01</th>\n",
              "      <td>571.0</td>\n",
              "      <td>49.0</td>\n",
              "    </tr>\n",
              "    <tr>\n",
              "      <th>2019-01-01</th>\n",
              "      <td>504.0</td>\n",
              "      <td>-67.0</td>\n",
              "    </tr>\n",
              "    <tr>\n",
              "      <th>2020-01-01</th>\n",
              "      <td>131.0</td>\n",
              "      <td>-373.0</td>\n",
              "    </tr>\n",
              "    <tr>\n",
              "      <th>2021-01-01</th>\n",
              "      <td>323.5</td>\n",
              "      <td>192.5</td>\n",
              "    </tr>\n",
              "  </tbody>\n",
              "</table>\n",
              "<p>64 rows × 2 columns</p>\n",
              "</div>"
            ],
            "text/plain": [
              "            points   diff\n",
              "1958-01-01    40.0    NaN\n",
              "1959-01-01    32.0   -8.0\n",
              "1960-01-01    26.0   -6.0\n",
              "1961-01-01    45.0   19.0\n",
              "1962-01-01    18.0  -27.0\n",
              "...            ...    ...\n",
              "2017-01-01   522.0  124.0\n",
              "2018-01-01   571.0   49.0\n",
              "2019-01-01   504.0  -67.0\n",
              "2020-01-01   131.0 -373.0\n",
              "2021-01-01   323.5  192.5\n",
              "\n",
              "[64 rows x 2 columns]"
            ]
          },
          "execution_count": 22,
          "metadata": {},
          "output_type": "execute_result"
        }
      ],
      "source": [
        "clear_data"
      ]
    },
    {
      "cell_type": "code",
      "execution_count": 23,
      "id": "FNFTfJU1gAbj",
      "metadata": {
        "colab": {
          "base_uri": "https://localhost:8080/",
          "height": 424
        },
        "id": "FNFTfJU1gAbj",
        "outputId": "07d3c2aa-c361-4942-e132-a891717d42ca"
      },
      "outputs": [
        {
          "data": {
            "text/html": [
              "<div>\n",
              "<style scoped>\n",
              "    .dataframe tbody tr th:only-of-type {\n",
              "        vertical-align: middle;\n",
              "    }\n",
              "\n",
              "    .dataframe tbody tr th {\n",
              "        vertical-align: top;\n",
              "    }\n",
              "\n",
              "    .dataframe thead th {\n",
              "        text-align: right;\n",
              "    }\n",
              "</style>\n",
              "<table border=\"1\" class=\"dataframe\">\n",
              "  <thead>\n",
              "    <tr style=\"text-align: right;\">\n",
              "      <th></th>\n",
              "      <th>index</th>\n",
              "      <th>points</th>\n",
              "      <th>diff</th>\n",
              "    </tr>\n",
              "  </thead>\n",
              "  <tbody>\n",
              "    <tr>\n",
              "      <th>0</th>\n",
              "      <td>1958-01-01</td>\n",
              "      <td>40.0</td>\n",
              "      <td>NaN</td>\n",
              "    </tr>\n",
              "    <tr>\n",
              "      <th>1</th>\n",
              "      <td>1959-01-01</td>\n",
              "      <td>32.0</td>\n",
              "      <td>-8.0</td>\n",
              "    </tr>\n",
              "    <tr>\n",
              "      <th>2</th>\n",
              "      <td>1960-01-01</td>\n",
              "      <td>26.0</td>\n",
              "      <td>-6.0</td>\n",
              "    </tr>\n",
              "    <tr>\n",
              "      <th>3</th>\n",
              "      <td>1961-01-01</td>\n",
              "      <td>45.0</td>\n",
              "      <td>19.0</td>\n",
              "    </tr>\n",
              "    <tr>\n",
              "      <th>4</th>\n",
              "      <td>1962-01-01</td>\n",
              "      <td>18.0</td>\n",
              "      <td>-27.0</td>\n",
              "    </tr>\n",
              "    <tr>\n",
              "      <th>...</th>\n",
              "      <td>...</td>\n",
              "      <td>...</td>\n",
              "      <td>...</td>\n",
              "    </tr>\n",
              "    <tr>\n",
              "      <th>59</th>\n",
              "      <td>2017-01-01</td>\n",
              "      <td>522.0</td>\n",
              "      <td>124.0</td>\n",
              "    </tr>\n",
              "    <tr>\n",
              "      <th>60</th>\n",
              "      <td>2018-01-01</td>\n",
              "      <td>571.0</td>\n",
              "      <td>49.0</td>\n",
              "    </tr>\n",
              "    <tr>\n",
              "      <th>61</th>\n",
              "      <td>2019-01-01</td>\n",
              "      <td>504.0</td>\n",
              "      <td>-67.0</td>\n",
              "    </tr>\n",
              "    <tr>\n",
              "      <th>62</th>\n",
              "      <td>2020-01-01</td>\n",
              "      <td>131.0</td>\n",
              "      <td>-373.0</td>\n",
              "    </tr>\n",
              "    <tr>\n",
              "      <th>63</th>\n",
              "      <td>2021-01-01</td>\n",
              "      <td>323.5</td>\n",
              "      <td>192.5</td>\n",
              "    </tr>\n",
              "  </tbody>\n",
              "</table>\n",
              "<p>64 rows × 3 columns</p>\n",
              "</div>"
            ],
            "text/plain": [
              "        index  points   diff\n",
              "0  1958-01-01    40.0    NaN\n",
              "1  1959-01-01    32.0   -8.0\n",
              "2  1960-01-01    26.0   -6.0\n",
              "3  1961-01-01    45.0   19.0\n",
              "4  1962-01-01    18.0  -27.0\n",
              "..        ...     ...    ...\n",
              "59 2017-01-01   522.0  124.0\n",
              "60 2018-01-01   571.0   49.0\n",
              "61 2019-01-01   504.0  -67.0\n",
              "62 2020-01-01   131.0 -373.0\n",
              "63 2021-01-01   323.5  192.5\n",
              "\n",
              "[64 rows x 3 columns]"
            ]
          },
          "execution_count": 23,
          "metadata": {},
          "output_type": "execute_result"
        }
      ],
      "source": [
        "yearIndex = pd.DataFrame()\n",
        "yearIndex = clear_data\n",
        "yearIndex = yearIndex.reset_index()\n",
        "yearIndex"
      ]
    },
    {
      "cell_type": "code",
      "execution_count": 31,
      "id": "6rUX0DcmI9Q2",
      "metadata": {
        "colab": {
          "base_uri": "https://localhost:8080/",
          "height": 885
        },
        "id": "6rUX0DcmI9Q2",
        "outputId": "9da03f62-04d7-4468-de5a-8aa32d7a5039"
      },
      "outputs": [
        {
          "data": {
            "text/html": [
              "<table class=\"simpletable\">\n",
              "<caption>SARIMAX Results</caption>\n",
              "<tr>\n",
              "  <th>Dep. Variable:</th>        <td>points</td>      <th>  No. Observations:  </th>    <td>64</td>   \n",
              "</tr>\n",
              "<tr>\n",
              "  <th>Model:</th>            <td>ARIMA(1, 1, 2)</td>  <th>  Log Likelihood     </th> <td>-363.819</td>\n",
              "</tr>\n",
              "<tr>\n",
              "  <th>Date:</th>            <td>Wed, 08 Feb 2023</td> <th>  AIC                </th>  <td>735.637</td>\n",
              "</tr>\n",
              "<tr>\n",
              "  <th>Time:</th>                <td>09:54:22</td>     <th>  BIC                </th>  <td>744.210</td>\n",
              "</tr>\n",
              "<tr>\n",
              "  <th>Sample:</th>             <td>01-01-1958</td>    <th>  HQIC               </th>  <td>739.009</td>\n",
              "</tr>\n",
              "<tr>\n",
              "  <th></th>                   <td>- 01-01-2021</td>   <th>                     </th>     <td> </td>   \n",
              "</tr>\n",
              "<tr>\n",
              "  <th>Covariance Type:</th>        <td>opg</td>       <th>                     </th>     <td> </td>   \n",
              "</tr>\n",
              "</table>\n",
              "<table class=\"simpletable\">\n",
              "<tr>\n",
              "     <td></td>       <th>coef</th>     <th>std err</th>      <th>z</th>      <th>P>|z|</th>  <th>[0.025</th>    <th>0.975]</th>  \n",
              "</tr>\n",
              "<tr>\n",
              "  <th>ar.L1</th>  <td>    0.1873</td> <td>    1.305</td> <td>    0.144</td> <td> 0.886</td> <td>   -2.370</td> <td>    2.744</td>\n",
              "</tr>\n",
              "<tr>\n",
              "  <th>ma.L1</th>  <td>   -0.6830</td> <td>    1.328</td> <td>   -0.514</td> <td> 0.607</td> <td>   -3.286</td> <td>    1.920</td>\n",
              "</tr>\n",
              "<tr>\n",
              "  <th>ma.L2</th>  <td>   -0.0098</td> <td>    0.796</td> <td>   -0.012</td> <td> 0.990</td> <td>   -1.569</td> <td>    1.550</td>\n",
              "</tr>\n",
              "<tr>\n",
              "  <th>sigma2</th> <td> 6036.3504</td> <td>  697.063</td> <td>    8.660</td> <td> 0.000</td> <td> 4670.132</td> <td> 7402.569</td>\n",
              "</tr>\n",
              "</table>\n",
              "<table class=\"simpletable\">\n",
              "<tr>\n",
              "  <th>Ljung-Box (L1) (Q):</th>     <td>0.09</td>  <th>  Jarque-Bera (JB):  </th> <td>172.59</td>\n",
              "</tr>\n",
              "<tr>\n",
              "  <th>Prob(Q):</th>                <td>0.76</td>  <th>  Prob(JB):          </th>  <td>0.00</td> \n",
              "</tr>\n",
              "<tr>\n",
              "  <th>Heteroskedasticity (H):</th> <td>33.04</td> <th>  Skew:              </th>  <td>-0.95</td>\n",
              "</tr>\n",
              "<tr>\n",
              "  <th>Prob(H) (two-sided):</th>    <td>0.00</td>  <th>  Kurtosis:          </th>  <td>10.88</td>\n",
              "</tr>\n",
              "</table><br/><br/>Warnings:<br/>[1] Covariance matrix calculated using the outer product of gradients (complex-step)."
            ],
            "text/plain": [
              "<class 'statsmodels.iolib.summary.Summary'>\n",
              "\"\"\"\n",
              "                               SARIMAX Results                                \n",
              "==============================================================================\n",
              "Dep. Variable:                 points   No. Observations:                   64\n",
              "Model:                 ARIMA(1, 1, 2)   Log Likelihood                -363.819\n",
              "Date:                Wed, 08 Feb 2023   AIC                            735.637\n",
              "Time:                        09:54:22   BIC                            744.210\n",
              "Sample:                    01-01-1958   HQIC                           739.009\n",
              "                         - 01-01-2021                                         \n",
              "Covariance Type:                  opg                                         \n",
              "==============================================================================\n",
              "                 coef    std err          z      P>|z|      [0.025      0.975]\n",
              "------------------------------------------------------------------------------\n",
              "ar.L1          0.1873      1.305      0.144      0.886      -2.370       2.744\n",
              "ma.L1         -0.6830      1.328     -0.514      0.607      -3.286       1.920\n",
              "ma.L2         -0.0098      0.796     -0.012      0.990      -1.569       1.550\n",
              "sigma2      6036.3504    697.063      8.660      0.000    4670.132    7402.569\n",
              "===================================================================================\n",
              "Ljung-Box (L1) (Q):                   0.09   Jarque-Bera (JB):               172.59\n",
              "Prob(Q):                              0.76   Prob(JB):                         0.00\n",
              "Heteroskedasticity (H):              33.04   Skew:                            -0.95\n",
              "Prob(H) (two-sided):                  0.00   Kurtosis:                        10.88\n",
              "===================================================================================\n",
              "\n",
              "Warnings:\n",
              "[1] Covariance matrix calculated using the outer product of gradients (complex-step).\n",
              "\"\"\""
            ]
          },
          "execution_count": 31,
          "metadata": {},
          "output_type": "execute_result"
        },
        {
          "data": {
            "image/png": "[encoded data removed]",
            "text/plain": [
              "<Figure size 2000x800 with 1 Axes>"
            ]
          },
          "metadata": {},
          "output_type": "display_data"
        }
      ],
      "source": [
        "from statsmodels.tsa.arima.model import ARIMA\n",
        "\n",
        "fig = plt.figure(figsize=(20,8))\n",
        "model = ARIMA(clear_data['points'].dropna(), order=(1,1,2)) \n",
        "ax = plt.gca()\n",
        "results = model.fit() \n",
        "plt.plot(clear_data['points'])\n",
        "plt.plot(results.fittedvalues, color='red')\n",
        "ax.legend(['Points', 'Forecast'])\n",
        "\n",
        "results.summary()"
      ]
    },
    {
      "cell_type": "code",
      "execution_count": 32,
      "id": "47405a60",
      "metadata": {},
      "outputs": [
        {
          "name": "stdout",
          "output_type": "stream",
          "text": [
            "Mean Absolute Error: 47.599729899367865\n",
            "Mean Absolute Percentage Error: 0.6452916704746607\n",
            "Mean Error: 13.55880915504107\n",
            "Mean Percentage Error: -0.2734350429639759\n",
            "Root Mean Squared Error: 77.24760062487566\n",
            "Min-Max Error: 564.0\n",
            "Correlation between actual and forecast: 0.8421001324358816\n"
          ]
        }
      ],
      "source": [
        "import numpy as np\n",
        "import pandas as pd\n",
        "\n",
        "actual = clear_data['points']\n",
        "forecast = results.fittedvalues\n",
        "\n",
        "# Mean Absolute Error\n",
        "mae = np.mean(np.abs(actual - forecast))\n",
        "print(\"Mean Absolute Error:\", mae)\n",
        "\n",
        "# Mean Absolute Percentage Error\n",
        "mape = np.mean(np.abs(actual - forecast) / actual)\n",
        "print(\"Mean Absolute Percentage Error:\", mape)\n",
        "\n",
        "# Mean Error\n",
        "me = np.mean(actual - forecast)\n",
        "print(\"Mean Error:\", me)\n",
        "\n",
        "# Mean Percentage Error\n",
        "mpe = np.mean((actual - forecast) / actual)\n",
        "print(\"Mean Percentage Error:\", mpe)\n",
        "\n",
        "# Root Mean Squared Error\n",
        "rmse = np.sqrt(np.mean((actual - forecast)**2))\n",
        "print(\"Root Mean Squared Error:\", rmse)\n",
        "\n",
        "# Min-Max Error\n",
        "min_max_error = np.max(actual) - np.min(actual)\n",
        "print(\"Min-Max Error:\", min_max_error)\n",
        "\n",
        "# Correlation between actual and forecast\n",
        "correlation = np.corrcoef(actual, forecast)[0,1]\n",
        "print(\"Correlation between actual and forecast:\", correlation)\n"
      ]
    },
    {
      "cell_type": "code",
      "execution_count": 26,
      "id": "eb0d9029",
      "metadata": {},
      "outputs": [
        {
          "data": {
            "text/plain": [
              "1958-01-01     40.0\n",
              "1959-01-01     32.0\n",
              "1960-01-01     26.0\n",
              "1961-01-01     45.0\n",
              "1962-01-01     18.0\n",
              "              ...  \n",
              "2017-01-01    522.0\n",
              "2018-01-01    571.0\n",
              "2019-01-01    504.0\n",
              "2020-01-01    131.0\n",
              "2021-01-01    323.5\n",
              "Freq: AS-JAN, Name: points, Length: 64, dtype: float64"
            ]
          },
          "execution_count": 26,
          "metadata": {},
          "output_type": "execute_result"
        }
      ],
      "source": [
        "clear_data['points'][:1200]"
      ]
    },
    {
      "cell_type": "code",
      "execution_count": 36,
      "id": "qL0ACzmaSGv0",
      "metadata": {
        "colab": {
          "base_uri": "https://localhost:8080/",
          "height": 397
        },
        "id": "qL0ACzmaSGv0",
        "outputId": "f37530a1-c177-4c31-ad22-a3cda692c994"
      },
      "outputs": [
        {
          "data": {
            "text/plain": [
              "[<matplotlib.lines.Line2D at 0x2a85f969eb0>]"
            ]
          },
          "execution_count": 36,
          "metadata": {},
          "output_type": "execute_result"
        },
        {
          "data": {
            "image/png": "[encoded data removed]",
            "text/plain": [
              "<Figure size 2000x800 with 1 Axes>"
            ]
          },
          "metadata": {},
          "output_type": "display_data"
        }
      ],
      "source": [
        "\n",
        "fig = plt.figure(figsize=(20,8))\n",
        "x = results.predict(start=('2021-01-01'), end=('2025-01-01'), dynamic=False)\n",
        "\n",
        "plt.plot(clear_data['points'])\n",
        "plt.plot(x, color='r')"
      ]
    },
    {
      "cell_type": "markdown",
      "id": "df48d6b3",
      "metadata": {
        "id": "df48d6b3"
      },
      "source": [
        "### Speed in Monza "
      ]
    },
    {
      "cell_type": "markdown",
      "id": "zKTlG9V6oETc",
      "metadata": {
        "id": "zKTlG9V6oETc"
      },
      "source": [
        "### Race duration in Monza"
      ]
    },
    {
      "cell_type": "code",
      "execution_count": null,
      "id": "DXpZNFK_dwp-",
      "metadata": {
        "colab": {
          "base_uri": "https://localhost:8080/",
          "height": 455
        },
        "id": "DXpZNFK_dwp-",
        "outputId": "5a9f4ffe-ea88-4c61-81e2-6de89a50f13f"
      },
      "outputs": [],
      "source": [
        "results = pd.read_csv('results.csv')\n",
        "races = pd.read_csv('races.csv')\n",
        "races = races[['raceId', 'year', 'circuitId']]\n",
        "results = results[['resultId', 'raceId', 'milliseconds', 'fastestLapSpeed', 'driverId']]\n",
        "\n",
        "def timesCircuit(circuitId):\n",
        "  resultsCircuit = pd.merge(races, results, on=['raceId'])\n",
        "  resultsCircuit = resultsCircuit.loc[(resultsCircuit['circuitId'] == circuitId)]\n",
        "  resultsCircuit = resultsCircuit[['milliseconds','year']]\n",
        "  return resultsCircuit\n",
        "\n",
        "times = pd.DataFrame()\n",
        "\n",
        "#times['timeSpa'] = timesCircuit(13).groupby(['year']).min()\n",
        "\n",
        "#times['timeSilverstone'] = timesCircuit(9).groupby(['year']).min()\n",
        "\n",
        "#times['timeMonaco'] = timesCircuit(6).groupby(['year']).min()\n",
        "\n",
        "timesMonza = timesCircuit(14)\n",
        "missingRow = {'milliseconds':5887520, 'year':1980} \n",
        "timesMonza = timesMonza.append(missingRow, ignore_index=True)\n",
        "timesMonza.sort_values('year', inplace=True)\n",
        "timesMonza = timesMonza.groupby(['year']).min()\n",
        "\n",
        "timesMonza['milliseconds'] = timesMonza['milliseconds'].astype('int')\n",
        "timesMonza['milliseconds'] = timesMonza['milliseconds'].apply(lambda x: x/60000)\n",
        "\n",
        "\n",
        "timesMonza"
      ]
    },
    {
      "cell_type": "code",
      "execution_count": null,
      "id": "ytGcdEE5oPPA",
      "metadata": {
        "colab": {
          "base_uri": "https://localhost:8080/",
          "height": 590
        },
        "id": "ytGcdEE5oPPA",
        "outputId": "f2d27bd3-544e-47f8-f2d1-b8c038ac03a9"
      },
      "outputs": [],
      "source": [
        "timesMonza.index = pd.period_range('1950', '2021', freq='Y')\n",
        "timesMonza\n"
      ]
    },
    {
      "cell_type": "code",
      "execution_count": null,
      "id": "Z1A8xeNwoPPC",
      "metadata": {
        "colab": {
          "base_uri": "https://localhost:8080/",
          "height": 251
        },
        "id": "Z1A8xeNwoPPC",
        "outputId": "c5bdb4a8-2f58-4205-e013-25627b47f695"
      },
      "outputs": [],
      "source": [
        "endog = timesMonza['milliseconds']\n",
        "endog.plot(figsize=(15, 5))\n"
      ]
    },
    {
      "cell_type": "code",
      "execution_count": null,
      "id": "5MRrLvEeoPPD",
      "metadata": {
        "colab": {
          "base_uri": "https://localhost:8080/"
        },
        "id": "5MRrLvEeoPPD",
        "outputId": "e5abb763-6731-41b0-ac1e-d68c1f1d2ffc"
      },
      "outputs": [],
      "source": [
        "import statsmodels.api as sm\n",
        "\n",
        "# Construct the model\n",
        "mod = sm.tsa.SARIMAX(endog, order=(1, 0, 0), trend='c')\n",
        "# Estimate the parameters\n",
        "res = mod.fit()\n",
        "\n",
        "print(res.summary())"
      ]
    },
    {
      "cell_type": "code",
      "execution_count": null,
      "id": "ooOfFQCooPPD",
      "metadata": {
        "id": "ooOfFQCooPPD"
      },
      "outputs": [],
      "source": [
        "fcast_res1 = res.get_forecast()\n",
        "\n",
        "# Most results are collected in the `summary_frame` attribute.\n",
        "# Here we specify that we want a confidence level of 90%\n",
        "print(fcast_res1.summary_frame(alpha=0.10))"
      ]
    },
    {
      "cell_type": "code",
      "execution_count": null,
      "id": "maVLUpBeoPPE",
      "metadata": {
        "id": "maVLUpBeoPPE"
      },
      "outputs": [],
      "source": [
        "print(res.forecast('2023'))\n"
      ]
    },
    {
      "cell_type": "code",
      "execution_count": null,
      "id": "iOC0tFb-oPPF",
      "metadata": {
        "colab": {
          "base_uri": "https://localhost:8080/",
          "height": 231
        },
        "id": "iOC0tFb-oPPF",
        "outputId": "7fd86b3b-6f3a-4ed2-b355-cc22a712af2e"
      },
      "outputs": [],
      "source": [
        "fig, ax = plt.subplots(figsize=(15, 5))\n",
        "\n",
        "# Plot the data (here we are subsetting it to get a better look at the forecasts)\n",
        "endog.loc['1950':].plot(ax=ax)\n",
        "\n",
        "# Construct the forecasts\n",
        "fcast = res.get_forecast('2030').summary_frame()\n",
        "fcast['mean'].plot(ax=ax, style='k--')\n",
        "ax.fill_between(fcast.index, fcast['mean_ci_lower'], fcast['mean_ci_upper'], color='k', alpha=0.1);"
      ]
    },
    {
      "cell_type": "code",
      "execution_count": null,
      "id": "qO9MSH-zMalh",
      "metadata": {
        "colab": {
          "base_uri": "https://localhost:8080/",
          "height": 645
        },
        "id": "qO9MSH-zMalh",
        "outputId": "12350593-f37c-4617-e6f1-e0a1f94a7e3b"
      },
      "outputs": [],
      "source": [
        "def speedCircuits(circuitId):\n",
        "  results = pd.read_csv('results.csv')\n",
        "  races = pd.read_csv('races.csv')\n",
        "  races = races[['raceId', 'year', 'circuitId']]\n",
        "  results = results[['resultId', 'raceId', 'fastestLapTime', 'fastestLapSpeed', 'driverId']]\n",
        "  resultsCircuit = pd.merge(races, results, on=['raceId'])\n",
        "  resultsCircuit = resultsCircuit.loc[(resultsCircuit['circuitId'] == circuitId)]\n",
        "  resultsCircuit = resultsCircuit[['fastestLapSpeed','year']]\n",
        "  resultsCircuit = resultsCircuit.loc[(resultsCircuit['fastestLapSpeed']!=\"\\\\N\")]\n",
        "  resultsCircuit['fastestLapSpeed'] = resultsCircuit['fastestLapSpeed'].astype(float)\n",
        "  return resultsCircuit\n",
        "\n",
        "speed = pd.DataFrame()\n",
        "speed['meanSpeedMonza'] = speedCircuits(14).groupby(['year']).mean()\n",
        "speed['maxSpeedMonza'] = speedCircuits(14).groupby(['year']).max()\n",
        "#speed['meanSpeedSpa'] = speedCircuits(13).groupby(['year']).mean()\n",
        "#speed['maxSpeedSpa'] = speedCircuits(13).groupby(['year']).max()\n",
        "#speed['meanSpeedSilverstone'] = speedCircuits(9).groupby(['year']).mean()\n",
        "#speed['maxSpeedSilverstone'] = speedCircuits(9).groupby(['year']).max()\n",
        "#speed['meanSpeedMonaco'] = speedCircuits(6).groupby(['year']).mean()\n",
        "#speed['maxSpeedMonaco'] = speedCircuits(6).groupby(['year']).max()\n",
        "speed\n",
        "\n"
      ]
    },
    {
      "cell_type": "code",
      "execution_count": null,
      "id": "XwtsJOGpmyZA",
      "metadata": {
        "colab": {
          "base_uri": "https://localhost:8080/",
          "height": 206
        },
        "id": "XwtsJOGpmyZA",
        "outputId": "4eebeb3b-d110-4ce7-fa2f-e2693b92d29d"
      },
      "outputs": [],
      "source": [
        "speed.index = pd.period_range('2004', '2021', freq='Y')\n",
        "speed.head()\n"
      ]
    },
    {
      "cell_type": "code",
      "execution_count": null,
      "id": "oGRm8aManQaP",
      "metadata": {
        "colab": {
          "base_uri": "https://localhost:8080/",
          "height": 329
        },
        "id": "oGRm8aManQaP",
        "outputId": "e0e39782-0a14-415b-f91f-e7eaab047fc6"
      },
      "outputs": [],
      "source": [
        "endog = speed['maxSpeedMonza']\n",
        "endog.plot(figsize=(15, 5))\n"
      ]
    },
    {
      "cell_type": "code",
      "execution_count": null,
      "id": "u56TzEIwnZzi",
      "metadata": {
        "colab": {
          "base_uri": "https://localhost:8080/"
        },
        "id": "u56TzEIwnZzi",
        "outputId": "26e56cc1-7451-4ab2-843f-cef990084bb9"
      },
      "outputs": [],
      "source": [
        "import statsmodels.api as sm\n",
        "\n",
        "# Construct the model\n",
        "mod = sm.tsa.SARIMAX(endog, order=(1, 0, 0), trend='c')\n",
        "# Estimate the parameters\n",
        "res = mod.fit()\n",
        "\n",
        "print(res.summary())"
      ]
    },
    {
      "cell_type": "code",
      "execution_count": null,
      "id": "1PJrdXB4niCs",
      "metadata": {
        "colab": {
          "base_uri": "https://localhost:8080/"
        },
        "id": "1PJrdXB4niCs",
        "outputId": "c2e4b01c-517e-4b2f-84f3-a914acd98cdc"
      },
      "outputs": [],
      "source": [
        "fcast_res1 = res.get_forecast()\n",
        "\n",
        "# Most results are collected in the `summary_frame` attribute.\n",
        "# Here we specify that we want a confidence level of 90%\n",
        "print(fcast_res1.summary_frame(alpha=0.10))"
      ]
    },
    {
      "cell_type": "code",
      "execution_count": null,
      "id": "4a1zyuEInmY6",
      "metadata": {
        "colab": {
          "base_uri": "https://localhost:8080/"
        },
        "id": "4a1zyuEInmY6",
        "outputId": "499ed2f4-fff2-4a2a-a60a-d445463ad973"
      },
      "outputs": [],
      "source": [
        "print(res.forecast('2023'))\n"
      ]
    },
    {
      "cell_type": "code",
      "execution_count": null,
      "id": "C6d8sEQontc6",
      "metadata": {
        "colab": {
          "base_uri": "https://localhost:8080/",
          "height": 307
        },
        "id": "C6d8sEQontc6",
        "outputId": "46319a50-34af-4efa-d88a-4220f91e28a1"
      },
      "outputs": [],
      "source": [
        "fig, ax = plt.subplots(figsize=(15, 5))\n",
        "\n",
        "# Plot the data (here we are subsetting it to get a better look at the forecasts)\n",
        "endog.loc['2004':].plot(ax=ax)\n",
        "\n",
        "# Construct the forecasts\n",
        "fcast = res.get_forecast('2025').summary_frame()\n",
        "fcast['mean'].plot(ax=ax, style='k--')\n",
        "ax.fill_between(fcast.index, fcast['mean_ci_lower'], fcast['mean_ci_upper'], color='k', alpha=0.1);"
      ]
    },
    {
      "cell_type": "code",
      "execution_count": null,
      "id": "GgZnpuzjlWrx",
      "metadata": {
        "id": "GgZnpuzjlWrx"
      },
      "outputs": [],
      "source": [
        "import pandas as pd\n",
        "import numpy as np\n",
        "import matplotlib.pyplot as plt\n",
        "import datetime\n",
        "import statsmodels.api as sm  \n",
        "from statsmodels.tsa.stattools import acf, pacf\n",
        "from statsmodels.tsa.stattools import adfuller\n",
        "from statsmodels.tsa.arima_model import ARIMA"
      ]
    },
    {
      "cell_type": "code",
      "execution_count": null,
      "id": "JgwrEr8Olxv0",
      "metadata": {
        "id": "JgwrEr8Olxv0"
      },
      "outputs": [],
      "source": [
        "from statsmodels.graphics.tsaplots import plot_acf, plot_pacf"
      ]
    },
    {
      "cell_type": "code",
      "execution_count": null,
      "id": "e2m1SpOtlxv3",
      "metadata": {
        "id": "e2m1SpOtlxv3"
      },
      "outputs": [],
      "source": [
        "def test_stationarity(ts):\n",
        "    stats = ['Test Statistic','p-value','Lags','Observations']\n",
        "    df_test = adfuller(ts, autolag='AIC')\n",
        "    df_results = pd.Series(df_test[0:4], index=stats)\n",
        "    for key,value in df_test[4].items():\n",
        "        df_results['Critical Value (%s)'%key] = value\n",
        "    print(df_results)"
      ]
    },
    {
      "cell_type": "code",
      "execution_count": null,
      "id": "Klq5XrwDlxv5",
      "metadata": {
        "colab": {
          "base_uri": "https://localhost:8080/"
        },
        "id": "Klq5XrwDlxv5",
        "outputId": "6ace4986-a233-460a-abc2-cd71d88a3337"
      },
      "outputs": [],
      "source": [
        "test_stationarity(endog)"
      ]
    },
    {
      "cell_type": "code",
      "execution_count": null,
      "id": "jdvT6H9Hlxv7",
      "metadata": {
        "colab": {
          "base_uri": "https://localhost:8080/",
          "height": 269
        },
        "id": "jdvT6H9Hlxv7",
        "outputId": "9581d774-9ac3-4da4-dde4-c06c32376be8"
      },
      "outputs": [],
      "source": [
        "fig, axes = plt.subplots(3, 2, sharex=True)"
      ]
    },
    {
      "cell_type": "code",
      "execution_count": null,
      "id": "O2FizMTSlxv9",
      "metadata": {
        "id": "O2FizMTSlxv9"
      },
      "outputs": [],
      "source": [
        "points = pd.DataFrame()\n",
        "points['maxSpeedMonza'] = speed['maxSpeedMonza']\n"
      ]
    },
    {
      "cell_type": "code",
      "execution_count": null,
      "id": "KXL6_S-Qlxv-",
      "metadata": {
        "colab": {
          "base_uri": "https://localhost:8080/"
        },
        "id": "KXL6_S-Qlxv-",
        "outputId": "575f9ff8-1a38-4dbf-e6f7-1127cf66bfee"
      },
      "outputs": [],
      "source": [
        "points.info()\n"
      ]
    },
    {
      "cell_type": "code",
      "execution_count": null,
      "id": "4rrWDDnslxwA",
      "metadata": {
        "colab": {
          "base_uri": "https://localhost:8080/",
          "height": 491
        },
        "id": "4rrWDDnslxwA",
        "outputId": "c2d87469-ab60-4a46-a7b8-95cd5a6f5178"
      },
      "outputs": [],
      "source": [
        "points['diff'] = points['maxSpeedMonza'] - points['maxSpeedMonza'].shift(1)\n",
        "clear_data = points\n",
        "clear_data"
      ]
    },
    {
      "cell_type": "code",
      "execution_count": null,
      "id": "vdA4UrzAlxwC",
      "metadata": {
        "colab": {
          "base_uri": "https://localhost:8080/"
        },
        "id": "vdA4UrzAlxwC",
        "outputId": "1ab87b3a-611a-4b17-824f-74211e8a47db"
      },
      "outputs": [],
      "source": [
        "test_stationarity(clear_data['diff'].dropna(inplace=False))\n"
      ]
    },
    {
      "cell_type": "code",
      "execution_count": null,
      "id": "cqqt0VE5mjfr",
      "metadata": {
        "colab": {
          "base_uri": "https://localhost:8080/",
          "height": 614
        },
        "id": "cqqt0VE5mjfr",
        "outputId": "23c96bcf-6753-440b-8578-e59e2ea97a4c"
      },
      "outputs": [],
      "source": [
        "points['diff2'] = points['diff'] - points['diff'].shift(1)\n",
        "clear_data = points\n",
        "clear_data"
      ]
    },
    {
      "cell_type": "code",
      "execution_count": null,
      "id": "MmMjT7B4msUA",
      "metadata": {
        "colab": {
          "base_uri": "https://localhost:8080/"
        },
        "id": "MmMjT7B4msUA",
        "outputId": "dde5d4a7-3800-495f-b59f-5eb749ad969c"
      },
      "outputs": [],
      "source": [
        "test_stationarity(clear_data['diff2'].dropna(inplace=False))"
      ]
    },
    {
      "cell_type": "code",
      "execution_count": null,
      "id": "Lle2SFmRlxwE",
      "metadata": {
        "colab": {
          "base_uri": "https://localhost:8080/",
          "height": 499
        },
        "id": "Lle2SFmRlxwE",
        "outputId": "1dc19e0a-a3ca-4b12-b140-b10f86137454"
      },
      "outputs": [],
      "source": [
        "# ACF, PACF graphs to help determine order of ARIMA model, again statsmodel has these handy functions built-in\n",
        "fig = plt.figure(figsize=(12,8))\n",
        "ax1 = fig.add_subplot(211)\n",
        "fig = sm.graphics.tsa.plot_acf(clear_data['diff2'][1:], lags=1, ax=ax1)   # first value of diff is NaN\n",
        "ax2 = fig.add_subplot(212)\n",
        "fig = sm.graphics.tsa.plot_pacf(clear_data['diff2'][1:], lags=1, ax=ax2)"
      ]
    },
    {
      "cell_type": "code",
      "execution_count": null,
      "id": "DIACBEcKlxwH",
      "metadata": {
        "id": "DIACBEcKlxwH"
      },
      "outputs": [],
      "source": [
        "pd.plotting.register_matplotlib_converters()\n"
      ]
    },
    {
      "cell_type": "code",
      "execution_count": null,
      "id": "Q6R3HpgYlxwI",
      "metadata": {
        "colab": {
          "base_uri": "https://localhost:8080/",
          "height": 614
        },
        "id": "Q6R3HpgYlxwI",
        "outputId": "646d0f63-84a2-49ca-cae4-4450a7000bf4"
      },
      "outputs": [],
      "source": [
        "clear_data"
      ]
    },
    {
      "cell_type": "code",
      "execution_count": null,
      "id": "agxdtGEKn2nr",
      "metadata": {
        "colab": {
          "base_uri": "https://localhost:8080/",
          "height": 614
        },
        "id": "agxdtGEKn2nr",
        "outputId": "f21bc583-3368-4dd6-c275-89fcaff60350"
      },
      "outputs": [],
      "source": [
        "clear_data.reset_index()\n"
      ]
    },
    {
      "cell_type": "code",
      "execution_count": null,
      "id": "6LklhiMPooUR",
      "metadata": {
        "colab": {
          "base_uri": "https://localhost:8080/",
          "height": 614
        },
        "id": "6LklhiMPooUR",
        "outputId": "723087a9-c60b-4c2f-975e-cedacef4f0e6"
      },
      "outputs": [],
      "source": [
        "yearIndex = pd.DataFrame()\n",
        "yearIndex = clear_data\n",
        "yearIndex = yearIndex.reset_index()\n",
        "yearIndex"
      ]
    },
    {
      "cell_type": "code",
      "execution_count": null,
      "id": "tSY3YQ89lxwJ",
      "metadata": {
        "colab": {
          "base_uri": "https://localhost:8080/",
          "height": 1000
        },
        "id": "tSY3YQ89lxwJ",
        "outputId": "eeb73c03-581e-47f3-9cc2-b9749f6528f9"
      },
      "outputs": [],
      "source": [
        "fig = plt.figure(figsize=(20,8))\n",
        "model = ARIMA(clear_data['maxSpeedMonza'], order=(1,2,0)) \n",
        "ax = plt.gca()\n",
        "results = model.fit() \n",
        "plt.plot(clear_data['maxSpeedMonza'])\n",
        "plt.plot(results.fittedvalues, color='red')\n",
        "ax.legend(['Car Count', 'Forecast'])\n",
        "\n",
        "print(results.summary())"
      ]
    },
    {
      "attachments": {},
      "cell_type": "markdown",
      "id": "2f485046",
      "metadata": {},
      "source": [
        "## Miscellanous\n"
      ]
    },
    {
      "attachments": {},
      "cell_type": "markdown",
      "id": "ca9bf200",
      "metadata": {},
      "source": [
        "The code below, although not part of the project, is still included because it contains useful code for future and further analysis. "
      ]
    },
    {
      "attachments": {},
      "cell_type": "markdown",
      "id": "Wti7olx6XsXh",
      "metadata": {
        "id": "Wti7olx6XsXh"
      },
      "source": [
        "### Boxplot - Pace race Monza 2019"
      ]
    },
    {
      "cell_type": "code",
      "execution_count": null,
      "id": "1T2iCd3HjEED",
      "metadata": {
        "id": "1T2iCd3HjEED"
      },
      "outputs": [],
      "source": [
        "import fastf1 as ff1\n",
        "from fastf1 import plotting\n",
        "\n",
        "import pandas as pd\n",
        "\n",
        "from matplotlib import pyplot as plt\n",
        "from matplotlib.pyplot import figure\n",
        "from matplotlib import cm\n",
        "\n",
        "import numpy as np"
      ]
    },
    {
      "cell_type": "code",
      "execution_count": null,
      "id": "BOq_nyq9ldiU",
      "metadata": {
        "colab": {
          "base_uri": "https://localhost:8080/"
        },
        "id": "BOq_nyq9ldiU",
        "outputId": "b0a8295b-331a-432c-9f35-a3596395b694"
      },
      "outputs": [],
      "source": [
        "# Enable the cache\n",
        "ff1.Cache.enable_cache('/content/gdrive/MyDrive/cacheF1') \n",
        "\n",
        "# Get rid of an error\n",
        "pd.options.mode.chained_assignment = None"
      ]
    },
    {
      "cell_type": "code",
      "execution_count": null,
      "id": "b06AY07EOu-N",
      "metadata": {
        "id": "b06AY07EOu-N"
      },
      "outputs": [],
      "source": [
        "# Load the session data\n",
        "race = ff1.get_session(2019, 'Italy', 'R')\n",
        "\n",
        "# Get the laps\n",
        "laps = race.load_laps()"
      ]
    },
    {
      "cell_type": "code",
      "execution_count": null,
      "id": "haCBLdACOw6a",
      "metadata": {
        "id": "haCBLdACOw6a"
      },
      "outputs": [],
      "source": [
        "\n",
        "# Convert laptimes to seconds\n",
        "laps['LapTimeSeconds'] = laps['LapTime'].dt.total_seconds()\n",
        "\n",
        "# To get accurate laps only, we exclude in- and outlaps\n",
        "laps = laps.loc[(laps['PitOutTime'].isnull() & laps['PitInTime'].isnull())]"
      ]
    },
    {
      "cell_type": "code",
      "execution_count": null,
      "id": "8aQmsgSBOz1C",
      "metadata": {
        "id": "8aQmsgSBOz1C"
      },
      "outputs": [],
      "source": [
        "# Also, we remove outliers since those don't represent the racepace,\n",
        "# using the Inter-Quartile Range (IQR) proximity rule\n",
        "q75, q25 = laps['LapTimeSeconds'].quantile(0.75), laps['LapTimeSeconds'].quantile(0.25)\n",
        "\n",
        "intr_qr = q75 - q25\n",
        "\n",
        "laptime_max = q75 + (1.5 * intr_qr) # IQR proximity rule: Max = q75 + 1,5 * IQR\n",
        "laptime_min = q25 - (1.5 * intr_qr) # IQR proximity rule: Min = q25 + 1,5 * IQR\n",
        "\n",
        "laps.loc[laps['LapTimeSeconds'] < laptime_min, 'LapTimeSeconds'] = np.nan\n",
        "laps.loc[laps['LapTimeSeconds'] > laptime_max, 'LapTimeSeconds'] = np.nan"
      ]
    },
    {
      "cell_type": "code",
      "execution_count": null,
      "id": "optKJ0oDO1pE",
      "metadata": {
        "id": "optKJ0oDO1pE"
      },
      "outputs": [],
      "source": [
        "drivers_to_visualize = ['LEC', 'VER', 'HAM', 'VET']"
      ]
    },
    {
      "cell_type": "code",
      "execution_count": null,
      "id": "MYfJ9QwIO6Gf",
      "metadata": {
        "id": "MYfJ9QwIO6Gf"
      },
      "outputs": [],
      "source": [
        "# To make sure we won't get any equally styled lines when comparing teammates\n",
        "visualized_teams = []\n",
        "\n",
        "# Make plot a bit bigger\n",
        "plt.rcParams['figure.figsize'] = [10, 10]\n",
        "\n",
        "# Create 2 subplots (1 for the boxplot, 1 for the lap-by-lap comparison)\n",
        "fig, ax = plt.subplots(2)\n",
        "\n",
        "\n",
        "##############################\n",
        "#\n",
        "# Boxplot for average racepace\n",
        "#\n",
        "##############################\n",
        "laptimes = [laps.pick_driver(x)['LapTimeSeconds'].dropna() for x in drivers_to_visualize] \n",
        "\n",
        "ax[0].boxplot(laptimes, labels=drivers_to_visualize)\n",
        "\n",
        "ax[0].set_title('Comparazione del passo gara media')\n",
        "ax[0].set(ylabel = 'Tempi del giro (s)')\n",
        "\n",
        "\n",
        "\n",
        "##############################\n",
        "#\n",
        "# Lap-by-lap racepace comparison\n",
        "#\n",
        "##############################\n",
        "for driver in drivers_to_visualize:\n",
        "    driver_laps = laps.pick_driver(driver)[['LapNumber', 'LapTimeSeconds', 'Team']]\n",
        "    \n",
        "    # Select all the laps from that driver\n",
        "    driver_laps = driver_laps.dropna()\n",
        "    \n",
        "    # Extract the team for coloring purploses\n",
        "    team = pd.unique(driver_laps['Team'])[0]\n",
        "    \n",
        "    # X-coordinate is the lap number\n",
        "    x = driver_laps['LapNumber']\n",
        "    \n",
        "    # Y-coordinate a smoothed line between all the laptimes\n",
        "    poly = np.polyfit(driver_laps['LapNumber'], driver_laps['LapTimeSeconds'], 5)\n",
        "    y_poly = np.poly1d(poly)(driver_laps['LapNumber'])\n",
        "    \n",
        "    # Make sure that two teammates don't get the same line style\n",
        "    linestyle = '-' if team not in visualized_teams else ':'\n",
        "    \n",
        "    # Plot the data\n",
        "    ax[1].plot(x, y_poly, label=driver, color=ff1.plotting.team_color(team), linestyle=linestyle)\n",
        "    \n",
        "    # Include scatterplot (individual laptimes)\n",
        "    # y = driver_laps['LapTimeSeconds']\n",
        "    # scatter_marker = 'o' if team not in visualized_teams else '^' \n",
        "    # ax[1].scatter(x, y, label=driver, color=ff1.plotting.team_color(team), marker=scatter_marker)\n",
        "    \n",
        "    # Append labels\n",
        "    ax[1].set(ylabel = 'Tempi del giro (s)')\n",
        "    ax[1].set(xlabel = 'Giro')\n",
        "    \n",
        "    # Set title\n",
        "    ax[1].set_title('Passo gara giro per giro')\n",
        "\n",
        "    # Generate legend\n",
        "    ax[1].legend()\n",
        "    \n",
        "    # Add the team to the visualized teams variable so that the next time the linestyle will be different\n",
        "    visualized_teams.append(team)\n",
        "    \n"
      ]
    },
    {
      "attachments": {},
      "cell_type": "markdown",
      "id": "YfT9zZLCXxR4",
      "metadata": {
        "id": "YfT9zZLCXxR4"
      },
      "source": [
        "### Telemetry analysis #1"
      ]
    },
    {
      "cell_type": "code",
      "execution_count": null,
      "id": "fdPUuLcyWJKw",
      "metadata": {
        "colab": {
          "base_uri": "https://localhost:8080/"
        },
        "id": "fdPUuLcyWJKw",
        "outputId": "2dc77d21-1824-45c3-fc99-dbc472835410"
      },
      "outputs": [],
      "source": [
        "import matplotlib.pyplot as plt\n",
        "import fastf1.plotting\n",
        "\n",
        "\n",
        "\n",
        "# enable some matplotlib patches for plotting timedelta values and load\n",
        "# FastF1's default color scheme\n",
        "fastf1.plotting.setup_mpl()\n",
        "\n",
        "# load a session and its telemetry data\n",
        "session = fastf1.get_session(2021, 'Spanish Grand Prix', 'Q')\n",
        "session.load()"
      ]
    },
    {
      "cell_type": "code",
      "execution_count": null,
      "id": "wDlkAGBtWJyd",
      "metadata": {
        "id": "wDlkAGBtWJyd"
      },
      "outputs": [],
      "source": [
        "ver_lap = session.laps.pick_driver('VER').pick_fastest()\n",
        "ham_lap = session.laps.pick_driver('HAM').pick_fastest()"
      ]
    },
    {
      "cell_type": "code",
      "execution_count": null,
      "id": "AjRpitcLWNPS",
      "metadata": {
        "id": "AjRpitcLWNPS"
      },
      "outputs": [],
      "source": [
        "ver_tel = ver_lap.get_car_data().add_distance()\n",
        "ham_tel = ham_lap.get_car_data().add_distance()"
      ]
    },
    {
      "cell_type": "code",
      "execution_count": null,
      "id": "DLlHyc3gWO99",
      "metadata": {
        "colab": {
          "base_uri": "https://localhost:8080/",
          "height": 677
        },
        "id": "DLlHyc3gWO99",
        "outputId": "f78b56a3-20c4-4b84-f902-04eecfa320aa"
      },
      "outputs": [],
      "source": [
        "rbr_color = fastf1.plotting.team_color('RBR')\n",
        "mer_color = fastf1.plotting.team_color('MER')\n",
        "\n",
        "fig, ax = plt.subplots()\n",
        "ax.plot(ver_tel['Distance'], ver_tel['Speed'], color=rbr_color, label='VER')\n",
        "ax.plot(ham_tel['Distance'], ham_tel['Speed'], color=mer_color, label='HAM')\n",
        "\n",
        "ax.set_xlabel('Distance in m')\n",
        "ax.set_ylabel('Speed in km/h')\n",
        "\n",
        "ax.legend()\n",
        "plt.suptitle(f\"Fastest Lap Comparison \\n \"\n",
        "             f\"{session.event['EventName']} {session.event.year} Qualifying\")\n",
        "\n",
        "plt.show()"
      ]
    },
    {
      "attachments": {},
      "cell_type": "markdown",
      "id": "45ZLiZL8X2_n",
      "metadata": {
        "id": "45ZLiZL8X2_n"
      },
      "source": [
        "### Telemetry analysis #2\n"
      ]
    },
    {
      "cell_type": "code",
      "execution_count": null,
      "id": "qYmv6ru_z3C4",
      "metadata": {
        "id": "qYmv6ru_z3C4"
      },
      "outputs": [],
      "source": [
        "import matplotlib.pyplot as plt\n",
        "import fastf1.plotting\n",
        "\n",
        "\n",
        "\n",
        "# enable some matplotlib patches for plotting timedelta values and load\n",
        "# FastF1's default color scheme\n",
        "fastf1.plotting.setup_mpl()\n",
        "\n",
        "# load a session and its telemetry data\n",
        "session = fastf1.get_session(2019, 'Italian Grand Prix', 'R')\n",
        "session.load()"
      ]
    },
    {
      "cell_type": "code",
      "execution_count": null,
      "id": "QU7HNJ6ez3C9",
      "metadata": {
        "colab": {
          "base_uri": "https://localhost:8080/",
          "height": 424
        },
        "id": "QU7HNJ6ez3C9",
        "outputId": "ae628be1-b2f2-44f8-8025-588c744cb1d9"
      },
      "outputs": [],
      "source": [
        "lec_lap = session.laps.pick_driver('LEC').pick_accurate()\n",
        "#lec_lap = lec_lap.loc[(lec_lap['LapNumber']>=10) & (lec_lap['LapNumber']<=30)]\n",
        "#lec_lap = session.laps.pick_driver('LEC').pick_fastest()\n",
        "\n",
        "lec_tel = lec_lap.get_car_data().add_distance()\n",
        "\n",
        "lec_tel"
      ]
    },
    {
      "cell_type": "code",
      "execution_count": null,
      "id": "Oxb51XCbz3C_",
      "metadata": {
        "colab": {
          "base_uri": "https://localhost:8080/",
          "height": 697
        },
        "id": "Oxb51XCbz3C_",
        "outputId": "07f97f43-7dc0-4ae2-f839-f315a8582216"
      },
      "outputs": [],
      "source": [
        "fer_color = fastf1.plotting.team_color('FER')\n",
        "\n",
        "fig, ax = plt.subplots()\n",
        "ax.plot(lec_tel['SessionTime'], lec_tel['Speed'], color=fer_color, label='LEC')\n",
        "ax.set_xlabel('Durata gara in formato h:mm')\n",
        "ax.set_ylabel('Velocità in km/h')\n",
        "\n",
        "ax.legend()\n",
        "plt.suptitle(f\"Telemetria di tutti i di Leclerc \\n \"\n",
        "             f\"{session.event['EventName']} {session.event.year} Race\")\n",
        "\n",
        "fig.set_figwidth(50)\n",
        "fig.set_figheight(10)\n",
        "\n",
        "plt.show()"
      ]
    },
    {
      "attachments": {},
      "cell_type": "markdown",
      "id": "zNqofmDkz3DA",
      "metadata": {
        "id": "zNqofmDkz3DA"
      },
      "source": [
        "### Telemetry analysis #3\n"
      ]
    },
    {
      "cell_type": "code",
      "execution_count": null,
      "id": "NBnPnoXMz3DB",
      "metadata": {
        "id": "NBnPnoXMz3DB"
      },
      "outputs": [],
      "source": [
        "lec_lap = session.laps.pick_driver('LEC').pick_accurate()\n",
        "lec_lap = lec_lap.loc[(lec_lap['LapNumber']>10) & (lec_lap['LapNumber']<30)]\n",
        "#lec_lap = session.laps.pick_driver('LEC').pick_fastest()\n",
        "\n",
        "\n",
        "\n",
        "allLaps = session.laps.pick_driver('LEC').pick_accurate()\n",
        "\n",
        "  \n",
        "\n",
        "lap1 = lec_lap.loc[lec_lap['LapNumber'] == 11]\n",
        "tel1 = lap1.get_car_data().add_distance()\n",
        "\n",
        "lap5 = lec_lap.loc[lec_lap['LapNumber'] == 12]\n",
        "tel2 = lap5.get_car_data().add_distance()\n",
        "\n",
        "lap10 = lec_lap.loc[lec_lap['LapNumber'] == 13]\n",
        "tel3= lap10.get_car_data().add_distance()\n",
        "\n",
        "lap15 =lec_lap.loc[lec_lap['LapNumber'] == 14]\n",
        "tel4 = lap15.get_car_data().add_distance()\n",
        "\n",
        "lap20 = lec_lap.loc[lec_lap['LapNumber'] == 15]\n",
        "tel5 = lap20.get_car_data().add_distance()\n",
        "\n",
        "lap25 =lec_lap.loc[lec_lap['LapNumber'] == 16]\n",
        "tel6 = lap25.get_car_data().add_distance()\n",
        "\n",
        "lap30 = lec_lap.loc[lec_lap['LapNumber'] == 17]\n",
        "tel7 = lap30.get_car_data().add_distance()\n",
        "\n",
        "lap35 = lec_lap.loc[lec_lap['LapNumber'] == 18]\n",
        "tel8 = lap35.get_car_data().add_distance()\n",
        "\n",
        "lap40 = lec_lap.loc[lec_lap['LapNumber'] == 19]\n",
        "tel9 = lap40.get_car_data().add_distance()\n",
        "\n",
        "lap45 = lec_lap.loc[lec_lap['LapNumber'] == 23]\n",
        "tel10 = lap45.get_car_data().add_distance()\n",
        "\n",
        "lap50 = lec_lap.loc[lec_lap['LapNumber'] == 22]\n",
        "tel11 = lap50.get_car_data().add_distance()\n",
        "\n"
      ]
    },
    {
      "cell_type": "code",
      "execution_count": null,
      "id": "t1S6LlmclX-f",
      "metadata": {
        "colab": {
          "base_uri": "https://localhost:8080/",
          "height": 370
        },
        "id": "t1S6LlmclX-f",
        "outputId": "3932a722-15cb-47f4-a604-ecca5c8310d0"
      },
      "outputs": [],
      "source": [
        "fig, ax = plt.subplots()\n",
        "ax.plot(tel1['Distance'], tel1['Speed'], color='red', label='Lap11')\n",
        "ax.plot(tel2['Distance'], tel2['Speed'], color='white', label='Lap12')\n",
        "ax.plot(tel3['Distance'], tel3['Speed'], color='yellow', label='Lap13')\n",
        "ax.plot(tel4['Distance'], tel4['Speed'], color='blue', label='Lap14')\n",
        "ax.plot(tel5['Distance'], tel5['Speed'], color='green', label='Lap15')\n",
        "\n",
        "ax.set_xlabel('Distance in m')\n",
        "ax.set_ylabel('Speed in km/h')\n",
        "\n",
        "ax.legend()\n",
        "plt.suptitle(f\"Fastest Lap Comparison \\n \"\n",
        "             f\"{session.event['EventName']} {session.event.year} Race\")\n",
        "\n",
        "fig.set_figwidth(20)\n",
        "fig.set_figheight(5)\n",
        "\n",
        "plt.show()"
      ]
    }
  ],
  "metadata": {
    "colab": {
      "collapsed_sections": [
        "YfT9zZLCXxR4",
        "45ZLiZL8X2_n",
        "zNqofmDkz3DA"
      ],
      "provenance": [],
      "toc_visible": true
    },
    "kernelspec": {
      "display_name": "DataScience",
      "language": "python",
      "name": "python3"
    },
    "language_info": {
      "codemirror_mode": {
        "name": "ipython",
        "version": 3
      },
      "file_extension": ".py",
      "mimetype": "text/x-python",
      "name": "python",
      "nbconvert_exporter": "python",
      "pygments_lexer": "ipython3",
      "version": "3.9.15"
    },
    "vscode": {
      "interpreter": {
        "hash": "e69159cacdb4fbd82388aeebaccb114ee46244fdb23461f4c1af85b236eb5dfd"
      }
    }
  },
  "nbformat": 4,
  "nbformat_minor": 5
}
